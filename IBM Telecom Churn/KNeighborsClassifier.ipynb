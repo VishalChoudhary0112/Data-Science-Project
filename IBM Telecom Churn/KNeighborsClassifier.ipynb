{
 "cells": [
  {
   "cell_type": "code",
   "execution_count": 1,
   "id": "789ccc37",
   "metadata": {},
   "outputs": [],
   "source": [
    "import numpy as np\n",
    "import pandas as pd\n",
    "import matplotlib.pyplot as plt\n",
    "import seaborn as sns\n",
    "import scipy.stats as stats\n",
    "import statsmodels.api as sm\n",
    "from statsmodels.stats.outliers_influence import variance_inflation_factor as VIF\n",
    "from sklearn.preprocessing import StandardScaler,OrdinalEncoder\n",
    "from sklearn.model_selection import train_test_split,GridSearchCV\n",
    "from sklearn.linear_model import LogisticRegression\n",
    "from sklearn.tree import DecisionTreeClassifier,plot_tree\n",
    "from sklearn.ensemble import RandomForestClassifier,AdaBoostClassifier,GradientBoostingClassifier,BaggingClassifier\n",
    "from sklearn.neighbors import KNeighborsClassifier\n",
    "from sklearn.naive_bayes import GaussianNB\n",
    "from sklearn.metrics import accuracy_score,confusion_matrix,classification_report,cohen_kappa_score,roc_auc_score,roc_curve\n",
    "from sklearn.metrics import precision_score,recall_score,f1_score\n",
    "from sklearn.feature_selection import SequentialFeatureSelector as sfs,RFE\n",
    "from xgboost import XGBClassifier\n",
    "from sklearn.neighbors import KNeighborsClassifier\n",
    "import warnings\n",
    "warnings.filterwarnings('ignore')\n",
    "plt.rcParams['figure.figsize']=[20,10]"
   ]
  },
  {
   "cell_type": "code",
   "execution_count": 2,
   "id": "5805fd5e",
   "metadata": {},
   "outputs": [],
   "source": [
    "df = pd.read_csv('data1.csv')"
   ]
  },
  {
   "cell_type": "code",
   "execution_count": 3,
   "id": "da3e9d44",
   "metadata": {},
   "outputs": [
    {
     "data": {
      "text/html": [
       "<div>\n",
       "<style scoped>\n",
       "    .dataframe tbody tr th:only-of-type {\n",
       "        vertical-align: middle;\n",
       "    }\n",
       "\n",
       "    .dataframe tbody tr th {\n",
       "        vertical-align: top;\n",
       "    }\n",
       "\n",
       "    .dataframe thead th {\n",
       "        text-align: right;\n",
       "    }\n",
       "</style>\n",
       "<table border=\"1\" class=\"dataframe\">\n",
       "  <thead>\n",
       "    <tr style=\"text-align: right;\">\n",
       "      <th></th>\n",
       "      <th>Unnamed: 0</th>\n",
       "      <th>gender</th>\n",
       "      <th>SeniorCitizen</th>\n",
       "      <th>Partner</th>\n",
       "      <th>Dependents</th>\n",
       "      <th>PhoneService</th>\n",
       "      <th>MultipleLines</th>\n",
       "      <th>InternetService</th>\n",
       "      <th>OnlineSecurity</th>\n",
       "      <th>OnlineBackup</th>\n",
       "      <th>DeviceProtection</th>\n",
       "      <th>TechSupport</th>\n",
       "      <th>StreamingTV</th>\n",
       "      <th>StreamingMovies</th>\n",
       "      <th>Contract</th>\n",
       "      <th>PaperlessBilling</th>\n",
       "      <th>PaymentMethod</th>\n",
       "      <th>MonthlyCharges</th>\n",
       "      <th>TotalCharges</th>\n",
       "      <th>Churn</th>\n",
       "    </tr>\n",
       "  </thead>\n",
       "  <tbody>\n",
       "    <tr>\n",
       "      <th>0</th>\n",
       "      <td>0</td>\n",
       "      <td>0</td>\n",
       "      <td>0</td>\n",
       "      <td>1</td>\n",
       "      <td>0</td>\n",
       "      <td>0</td>\n",
       "      <td>1</td>\n",
       "      <td>0</td>\n",
       "      <td>0</td>\n",
       "      <td>2</td>\n",
       "      <td>0</td>\n",
       "      <td>0</td>\n",
       "      <td>0</td>\n",
       "      <td>0</td>\n",
       "      <td>0</td>\n",
       "      <td>1</td>\n",
       "      <td>2</td>\n",
       "      <td>-1.165523</td>\n",
       "      <td>-1.285566</td>\n",
       "      <td>0</td>\n",
       "    </tr>\n",
       "    <tr>\n",
       "      <th>1</th>\n",
       "      <td>1</td>\n",
       "      <td>1</td>\n",
       "      <td>0</td>\n",
       "      <td>0</td>\n",
       "      <td>0</td>\n",
       "      <td>1</td>\n",
       "      <td>0</td>\n",
       "      <td>0</td>\n",
       "      <td>2</td>\n",
       "      <td>0</td>\n",
       "      <td>2</td>\n",
       "      <td>0</td>\n",
       "      <td>0</td>\n",
       "      <td>0</td>\n",
       "      <td>1</td>\n",
       "      <td>0</td>\n",
       "      <td>3</td>\n",
       "      <td>-0.264071</td>\n",
       "      <td>0.060346</td>\n",
       "      <td>0</td>\n",
       "    </tr>\n",
       "    <tr>\n",
       "      <th>2</th>\n",
       "      <td>2</td>\n",
       "      <td>1</td>\n",
       "      <td>0</td>\n",
       "      <td>0</td>\n",
       "      <td>0</td>\n",
       "      <td>1</td>\n",
       "      <td>0</td>\n",
       "      <td>0</td>\n",
       "      <td>2</td>\n",
       "      <td>2</td>\n",
       "      <td>0</td>\n",
       "      <td>0</td>\n",
       "      <td>0</td>\n",
       "      <td>0</td>\n",
       "      <td>0</td>\n",
       "      <td>1</td>\n",
       "      <td>3</td>\n",
       "      <td>-0.367189</td>\n",
       "      <td>-1.244781</td>\n",
       "      <td>1</td>\n",
       "    </tr>\n",
       "    <tr>\n",
       "      <th>3</th>\n",
       "      <td>3</td>\n",
       "      <td>1</td>\n",
       "      <td>0</td>\n",
       "      <td>0</td>\n",
       "      <td>0</td>\n",
       "      <td>0</td>\n",
       "      <td>1</td>\n",
       "      <td>0</td>\n",
       "      <td>2</td>\n",
       "      <td>0</td>\n",
       "      <td>2</td>\n",
       "      <td>2</td>\n",
       "      <td>0</td>\n",
       "      <td>0</td>\n",
       "      <td>1</td>\n",
       "      <td>0</td>\n",
       "      <td>0</td>\n",
       "      <td>-0.751387</td>\n",
       "      <td>0.508983</td>\n",
       "      <td>0</td>\n",
       "    </tr>\n",
       "    <tr>\n",
       "      <th>4</th>\n",
       "      <td>4</td>\n",
       "      <td>0</td>\n",
       "      <td>0</td>\n",
       "      <td>0</td>\n",
       "      <td>0</td>\n",
       "      <td>1</td>\n",
       "      <td>0</td>\n",
       "      <td>1</td>\n",
       "      <td>0</td>\n",
       "      <td>0</td>\n",
       "      <td>0</td>\n",
       "      <td>0</td>\n",
       "      <td>0</td>\n",
       "      <td>0</td>\n",
       "      <td>0</td>\n",
       "      <td>1</td>\n",
       "      <td>2</td>\n",
       "      <td>0.193308</td>\n",
       "      <td>-1.244781</td>\n",
       "      <td>1</td>\n",
       "    </tr>\n",
       "  </tbody>\n",
       "</table>\n",
       "</div>"
      ],
      "text/plain": [
       "   Unnamed: 0  gender  SeniorCitizen  Partner  Dependents  PhoneService  \\\n",
       "0           0       0              0        1           0             0   \n",
       "1           1       1              0        0           0             1   \n",
       "2           2       1              0        0           0             1   \n",
       "3           3       1              0        0           0             0   \n",
       "4           4       0              0        0           0             1   \n",
       "\n",
       "   MultipleLines  InternetService  OnlineSecurity  OnlineBackup  \\\n",
       "0              1                0               0             2   \n",
       "1              0                0               2             0   \n",
       "2              0                0               2             2   \n",
       "3              1                0               2             0   \n",
       "4              0                1               0             0   \n",
       "\n",
       "   DeviceProtection  TechSupport  StreamingTV  StreamingMovies  Contract  \\\n",
       "0                 0            0            0                0         0   \n",
       "1                 2            0            0                0         1   \n",
       "2                 0            0            0                0         0   \n",
       "3                 2            2            0                0         1   \n",
       "4                 0            0            0                0         0   \n",
       "\n",
       "   PaperlessBilling  PaymentMethod  MonthlyCharges  TotalCharges  Churn  \n",
       "0                 1              2       -1.165523     -1.285566      0  \n",
       "1                 0              3       -0.264071      0.060346      0  \n",
       "2                 1              3       -0.367189     -1.244781      1  \n",
       "3                 0              0       -0.751387      0.508983      0  \n",
       "4                 1              2        0.193308     -1.244781      1  "
      ]
     },
     "execution_count": 3,
     "metadata": {},
     "output_type": "execute_result"
    }
   ],
   "source": [
    "df.head()"
   ]
  },
  {
   "cell_type": "code",
   "execution_count": 4,
   "id": "c4084fe8",
   "metadata": {},
   "outputs": [],
   "source": [
    "df.drop('Unnamed: 0',axis=1,inplace=True)"
   ]
  },
  {
   "cell_type": "code",
   "execution_count": 5,
   "id": "53b74242",
   "metadata": {},
   "outputs": [],
   "source": [
    "y = df.Churn\n",
    "X = df.drop('Churn',axis=1)"
   ]
  },
  {
   "cell_type": "code",
   "execution_count": 6,
   "id": "61953d35",
   "metadata": {},
   "outputs": [],
   "source": [
    "X_train, X_test, y_train, y_test = train_test_split(X, y , random_state=42, test_size=0.3)"
   ]
  },
  {
   "cell_type": "code",
   "execution_count": 8,
   "id": "75fd7dca",
   "metadata": {},
   "outputs": [
    {
     "name": "stdout",
     "output_type": "stream",
     "text": [
      "X_train:  (4907, 18)\n",
      "X_test:  (2103, 18)\n",
      "y_train:  (4907,)\n",
      "y_test:  (2103,)\n"
     ]
    }
   ],
   "source": [
    "print('X_train: ',X_train.shape)\n",
    "print('X_test: ',X_test.shape)\n",
    "print('y_train: ',y_train.shape)\n",
    "print('y_test: ',y_test.shape)"
   ]
  },
  {
   "cell_type": "code",
   "execution_count": 10,
   "id": "f7d27126",
   "metadata": {},
   "outputs": [],
   "source": [
    "knn = KNeighborsClassifier(n_neighbors=11)"
   ]
  },
  {
   "cell_type": "code",
   "execution_count": 11,
   "id": "76c64577",
   "metadata": {},
   "outputs": [],
   "source": [
    "knn_model = knn.fit(X_train, y_train)"
   ]
  },
  {
   "cell_type": "markdown",
   "id": "44f6a6f9",
   "metadata": {},
   "source": [
    "#### Performace of train set"
   ]
  },
  {
   "cell_type": "code",
   "execution_count": 12,
   "id": "b926985f",
   "metadata": {},
   "outputs": [],
   "source": [
    "y_pred = knn_model.predict(X_train)"
   ]
  },
  {
   "cell_type": "code",
   "execution_count": 13,
   "id": "5dab1ec7",
   "metadata": {},
   "outputs": [
    {
     "name": "stdout",
     "output_type": "stream",
     "text": [
      "              precision    recall  f1-score   support\n",
      "\n",
      "           0       0.85      0.90      0.87      3589\n",
      "           1       0.66      0.56      0.61      1318\n",
      "\n",
      "    accuracy                           0.81      4907\n",
      "   macro avg       0.76      0.73      0.74      4907\n",
      "weighted avg       0.80      0.81      0.80      4907\n",
      "\n"
     ]
    }
   ],
   "source": [
    "print(classification_report(y_train,y_pred))"
   ]
  },
  {
   "cell_type": "markdown",
   "id": "8d2a8576",
   "metadata": {},
   "source": [
    "#### Performance of test set"
   ]
  },
  {
   "cell_type": "code",
   "execution_count": 14,
   "id": "d61fd790",
   "metadata": {},
   "outputs": [],
   "source": [
    "y_test_pred = knn_model.predict(X_test)"
   ]
  },
  {
   "cell_type": "code",
   "execution_count": 15,
   "id": "782d2294",
   "metadata": {},
   "outputs": [
    {
     "name": "stdout",
     "output_type": "stream",
     "text": [
      "              precision    recall  f1-score   support\n",
      "\n",
      "           0       0.83      0.87      0.85      1564\n",
      "           1       0.57      0.49      0.53       539\n",
      "\n",
      "    accuracy                           0.77      2103\n",
      "   macro avg       0.70      0.68      0.69      2103\n",
      "weighted avg       0.76      0.77      0.77      2103\n",
      "\n"
     ]
    }
   ],
   "source": [
    "print(classification_report(y_test, y_test_pred))"
   ]
  },
  {
   "cell_type": "markdown",
   "id": "f059ca5b",
   "metadata": {},
   "source": [
    "## Hyperparameter tuning using GridSearchCV"
   ]
  },
  {
   "cell_type": "code",
   "execution_count": 17,
   "id": "c823725f",
   "metadata": {},
   "outputs": [],
   "source": [
    "from sklearn.model_selection import KFold"
   ]
  },
  {
   "cell_type": "code",
   "execution_count": 22,
   "id": "636600ef",
   "metadata": {},
   "outputs": [],
   "source": [
    "params = [{'n_neighbors':[3,5,7,9,11],\n",
    "          'metric':['euclidean','manhattan']}]"
   ]
  },
  {
   "cell_type": "code",
   "execution_count": 23,
   "id": "20e3a5db",
   "metadata": {},
   "outputs": [],
   "source": [
    "kf = KFold(n_splits=5,shuffle=True,random_state=42)"
   ]
  },
  {
   "cell_type": "code",
   "execution_count": 24,
   "id": "6ffd19b9",
   "metadata": {},
   "outputs": [],
   "source": [
    "KNN = KNeighborsClassifier()"
   ]
  },
  {
   "cell_type": "code",
   "execution_count": 25,
   "id": "ce170927",
   "metadata": {},
   "outputs": [],
   "source": [
    "grd = GridSearchCV(estimator=KNN, param_grid=params, cv=kf)"
   ]
  },
  {
   "cell_type": "code",
   "execution_count": 26,
   "id": "d5e53dea",
   "metadata": {},
   "outputs": [],
   "source": [
    "grd_model = grd.fit(X_train, y_train)"
   ]
  },
  {
   "cell_type": "code",
   "execution_count": 27,
   "id": "4e9cff82",
   "metadata": {},
   "outputs": [
    {
     "name": "stdout",
     "output_type": "stream",
     "text": [
      "Best parameters for KNN are:  {'metric': 'manhattan', 'n_neighbors': 11}\n"
     ]
    }
   ],
   "source": [
    "print('Best parameters for KNN are: ',grd_model.best_params_)"
   ]
  },
  {
   "cell_type": "code",
   "execution_count": 28,
   "id": "54454c85",
   "metadata": {},
   "outputs": [],
   "source": [
    "knn_final = KNeighborsClassifier(n_neighbors=11,metric='manhattan')"
   ]
  },
  {
   "cell_type": "code",
   "execution_count": 29,
   "id": "2544b3db",
   "metadata": {},
   "outputs": [],
   "source": [
    "knn_final_model = knn_final.fit(X_train,y_train)"
   ]
  },
  {
   "cell_type": "markdown",
   "id": "0924ef14",
   "metadata": {},
   "source": [
    "#### Performance of train set"
   ]
  },
  {
   "cell_type": "code",
   "execution_count": 30,
   "id": "d8ca2703",
   "metadata": {},
   "outputs": [],
   "source": [
    "y_pred = knn_final_model.predict(X_train)"
   ]
  },
  {
   "cell_type": "code",
   "execution_count": 32,
   "id": "bf93766d",
   "metadata": {},
   "outputs": [
    {
     "name": "stdout",
     "output_type": "stream",
     "text": [
      "              precision    recall  f1-score   support\n",
      "\n",
      "           0       0.86      0.89      0.87      3589\n",
      "           1       0.66      0.61      0.63      1318\n",
      "\n",
      "    accuracy                           0.81      4907\n",
      "   macro avg       0.76      0.75      0.75      4907\n",
      "weighted avg       0.81      0.81      0.81      4907\n",
      "\n"
     ]
    }
   ],
   "source": [
    "print(classification_report(y_train, y_pred))"
   ]
  },
  {
   "cell_type": "markdown",
   "id": "5d0efa6b",
   "metadata": {},
   "source": [
    "#### Performance of test set"
   ]
  },
  {
   "cell_type": "code",
   "execution_count": 33,
   "id": "4a0d4b06",
   "metadata": {},
   "outputs": [],
   "source": [
    "y_test_pred = knn_final_model.predict(X_test)"
   ]
  },
  {
   "cell_type": "code",
   "execution_count": 34,
   "id": "dae2d62a",
   "metadata": {},
   "outputs": [
    {
     "name": "stdout",
     "output_type": "stream",
     "text": [
      "              precision    recall  f1-score   support\n",
      "\n",
      "           0       0.84      0.86      0.85      1564\n",
      "           1       0.56      0.53      0.55       539\n",
      "\n",
      "    accuracy                           0.77      2103\n",
      "   macro avg       0.70      0.69      0.70      2103\n",
      "weighted avg       0.77      0.77      0.77      2103\n",
      "\n"
     ]
    }
   ],
   "source": [
    "print(classification_report(y_test, y_test_pred))"
   ]
  },
  {
   "cell_type": "code",
   "execution_count": null,
   "id": "96bda2f6",
   "metadata": {},
   "outputs": [],
   "source": []
  },
  {
   "cell_type": "code",
   "execution_count": null,
   "id": "4d9cd64f",
   "metadata": {},
   "outputs": [],
   "source": []
  }
 ],
 "metadata": {
  "kernelspec": {
   "display_name": "Python 3 (ipykernel)",
   "language": "python",
   "name": "python3"
  },
  "language_info": {
   "codemirror_mode": {
    "name": "ipython",
    "version": 3
   },
   "file_extension": ".py",
   "mimetype": "text/x-python",
   "name": "python",
   "nbconvert_exporter": "python",
   "pygments_lexer": "ipython3",
   "version": "3.9.12"
  }
 },
 "nbformat": 4,
 "nbformat_minor": 5
}
