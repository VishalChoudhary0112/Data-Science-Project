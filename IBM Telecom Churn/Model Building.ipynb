{
 "cells": [
  {
   "cell_type": "code",
   "execution_count": 1,
   "id": "d9679735",
   "metadata": {},
   "outputs": [],
   "source": [
    "import numpy as np\n",
    "import pandas as pd\n",
    "import matplotlib.pyplot as plt\n",
    "import seaborn as sns\n",
    "import scipy.stats as stats\n",
    "import statsmodels.api as sm\n",
    "from statsmodels.stats.outliers_influence import variance_inflation_factor as VIF\n",
    "from sklearn.preprocessing import StandardScaler,OrdinalEncoder\n",
    "from sklearn.model_selection import train_test_split,GridSearchCV\n",
    "from sklearn.linear_model import LogisticRegression\n",
    "from sklearn.tree import DecisionTreeClassifier,plot_tree\n",
    "from sklearn.ensemble import RandomForestClassifier,AdaBoostClassifier,GradientBoostingClassifier,BaggingClassifier\n",
    "from sklearn.neighbors import KNeighborsClassifier\n",
    "from sklearn.naive_bayes import GaussianNB\n",
    "from sklearn.metrics import accuracy_score,confusion_matrix,classification_report,cohen_kappa_score,roc_auc_score,roc_curve\n",
    "from sklearn.metrics import precision_score,recall_score,f1_score\n",
    "from sklearn.feature_selection import SequentialFeatureSelector as sfs,RFE\n",
    "from xgboost import XGBClassifier\n",
    "import warnings\n",
    "warnings.filterwarnings('ignore')\n",
    "plt.rcParams['figure.figsize']=[20,10]"
   ]
  },
  {
   "cell_type": "code",
   "execution_count": 2,
   "id": "7f7d7e87",
   "metadata": {},
   "outputs": [],
   "source": [
    "base = pd.read_csv('data1.csv')"
   ]
  },
  {
   "cell_type": "code",
   "execution_count": 3,
   "id": "71c0ac1b",
   "metadata": {},
   "outputs": [
    {
     "data": {
      "text/html": [
       "<div>\n",
       "<style scoped>\n",
       "    .dataframe tbody tr th:only-of-type {\n",
       "        vertical-align: middle;\n",
       "    }\n",
       "\n",
       "    .dataframe tbody tr th {\n",
       "        vertical-align: top;\n",
       "    }\n",
       "\n",
       "    .dataframe thead th {\n",
       "        text-align: right;\n",
       "    }\n",
       "</style>\n",
       "<table border=\"1\" class=\"dataframe\">\n",
       "  <thead>\n",
       "    <tr style=\"text-align: right;\">\n",
       "      <th></th>\n",
       "      <th>Unnamed: 0</th>\n",
       "      <th>gender</th>\n",
       "      <th>SeniorCitizen</th>\n",
       "      <th>Partner</th>\n",
       "      <th>Dependents</th>\n",
       "      <th>PhoneService</th>\n",
       "      <th>MultipleLines</th>\n",
       "      <th>InternetService</th>\n",
       "      <th>OnlineSecurity</th>\n",
       "      <th>OnlineBackup</th>\n",
       "      <th>DeviceProtection</th>\n",
       "      <th>TechSupport</th>\n",
       "      <th>StreamingTV</th>\n",
       "      <th>StreamingMovies</th>\n",
       "      <th>Contract</th>\n",
       "      <th>PaperlessBilling</th>\n",
       "      <th>PaymentMethod</th>\n",
       "      <th>MonthlyCharges</th>\n",
       "      <th>TotalCharges</th>\n",
       "      <th>Churn</th>\n",
       "    </tr>\n",
       "  </thead>\n",
       "  <tbody>\n",
       "    <tr>\n",
       "      <th>0</th>\n",
       "      <td>0</td>\n",
       "      <td>0</td>\n",
       "      <td>0</td>\n",
       "      <td>1</td>\n",
       "      <td>0</td>\n",
       "      <td>0</td>\n",
       "      <td>1</td>\n",
       "      <td>0</td>\n",
       "      <td>0</td>\n",
       "      <td>2</td>\n",
       "      <td>0</td>\n",
       "      <td>0</td>\n",
       "      <td>0</td>\n",
       "      <td>0</td>\n",
       "      <td>0</td>\n",
       "      <td>1</td>\n",
       "      <td>2</td>\n",
       "      <td>-1.165523</td>\n",
       "      <td>-1.285566</td>\n",
       "      <td>0</td>\n",
       "    </tr>\n",
       "    <tr>\n",
       "      <th>1</th>\n",
       "      <td>1</td>\n",
       "      <td>1</td>\n",
       "      <td>0</td>\n",
       "      <td>0</td>\n",
       "      <td>0</td>\n",
       "      <td>1</td>\n",
       "      <td>0</td>\n",
       "      <td>0</td>\n",
       "      <td>2</td>\n",
       "      <td>0</td>\n",
       "      <td>2</td>\n",
       "      <td>0</td>\n",
       "      <td>0</td>\n",
       "      <td>0</td>\n",
       "      <td>1</td>\n",
       "      <td>0</td>\n",
       "      <td>3</td>\n",
       "      <td>-0.264071</td>\n",
       "      <td>0.060346</td>\n",
       "      <td>0</td>\n",
       "    </tr>\n",
       "    <tr>\n",
       "      <th>2</th>\n",
       "      <td>2</td>\n",
       "      <td>1</td>\n",
       "      <td>0</td>\n",
       "      <td>0</td>\n",
       "      <td>0</td>\n",
       "      <td>1</td>\n",
       "      <td>0</td>\n",
       "      <td>0</td>\n",
       "      <td>2</td>\n",
       "      <td>2</td>\n",
       "      <td>0</td>\n",
       "      <td>0</td>\n",
       "      <td>0</td>\n",
       "      <td>0</td>\n",
       "      <td>0</td>\n",
       "      <td>1</td>\n",
       "      <td>3</td>\n",
       "      <td>-0.367189</td>\n",
       "      <td>-1.244781</td>\n",
       "      <td>1</td>\n",
       "    </tr>\n",
       "    <tr>\n",
       "      <th>3</th>\n",
       "      <td>3</td>\n",
       "      <td>1</td>\n",
       "      <td>0</td>\n",
       "      <td>0</td>\n",
       "      <td>0</td>\n",
       "      <td>0</td>\n",
       "      <td>1</td>\n",
       "      <td>0</td>\n",
       "      <td>2</td>\n",
       "      <td>0</td>\n",
       "      <td>2</td>\n",
       "      <td>2</td>\n",
       "      <td>0</td>\n",
       "      <td>0</td>\n",
       "      <td>1</td>\n",
       "      <td>0</td>\n",
       "      <td>0</td>\n",
       "      <td>-0.751387</td>\n",
       "      <td>0.508983</td>\n",
       "      <td>0</td>\n",
       "    </tr>\n",
       "    <tr>\n",
       "      <th>4</th>\n",
       "      <td>4</td>\n",
       "      <td>0</td>\n",
       "      <td>0</td>\n",
       "      <td>0</td>\n",
       "      <td>0</td>\n",
       "      <td>1</td>\n",
       "      <td>0</td>\n",
       "      <td>1</td>\n",
       "      <td>0</td>\n",
       "      <td>0</td>\n",
       "      <td>0</td>\n",
       "      <td>0</td>\n",
       "      <td>0</td>\n",
       "      <td>0</td>\n",
       "      <td>0</td>\n",
       "      <td>1</td>\n",
       "      <td>2</td>\n",
       "      <td>0.193308</td>\n",
       "      <td>-1.244781</td>\n",
       "      <td>1</td>\n",
       "    </tr>\n",
       "  </tbody>\n",
       "</table>\n",
       "</div>"
      ],
      "text/plain": [
       "   Unnamed: 0  gender  SeniorCitizen  Partner  Dependents  PhoneService  \\\n",
       "0           0       0              0        1           0             0   \n",
       "1           1       1              0        0           0             1   \n",
       "2           2       1              0        0           0             1   \n",
       "3           3       1              0        0           0             0   \n",
       "4           4       0              0        0           0             1   \n",
       "\n",
       "   MultipleLines  InternetService  OnlineSecurity  OnlineBackup  \\\n",
       "0              1                0               0             2   \n",
       "1              0                0               2             0   \n",
       "2              0                0               2             2   \n",
       "3              1                0               2             0   \n",
       "4              0                1               0             0   \n",
       "\n",
       "   DeviceProtection  TechSupport  StreamingTV  StreamingMovies  Contract  \\\n",
       "0                 0            0            0                0         0   \n",
       "1                 2            0            0                0         1   \n",
       "2                 0            0            0                0         0   \n",
       "3                 2            2            0                0         1   \n",
       "4                 0            0            0                0         0   \n",
       "\n",
       "   PaperlessBilling  PaymentMethod  MonthlyCharges  TotalCharges  Churn  \n",
       "0                 1              2       -1.165523     -1.285566      0  \n",
       "1                 0              3       -0.264071      0.060346      0  \n",
       "2                 1              3       -0.367189     -1.244781      1  \n",
       "3                 0              0       -0.751387      0.508983      0  \n",
       "4                 1              2        0.193308     -1.244781      1  "
      ]
     },
     "execution_count": 3,
     "metadata": {},
     "output_type": "execute_result"
    }
   ],
   "source": [
    "base.head()"
   ]
  },
  {
   "cell_type": "code",
   "execution_count": 4,
   "id": "d105bcdb",
   "metadata": {},
   "outputs": [],
   "source": [
    "base.drop('Unnamed: 0',axis=1,inplace=True)"
   ]
  },
  {
   "cell_type": "code",
   "execution_count": 5,
   "id": "5faeac61",
   "metadata": {
    "scrolled": true
   },
   "outputs": [
    {
     "data": {
      "text/plain": [
       "(7010, 19)"
      ]
     },
     "execution_count": 5,
     "metadata": {},
     "output_type": "execute_result"
    }
   ],
   "source": [
    "base.shape"
   ]
  },
  {
   "cell_type": "code",
   "execution_count": 6,
   "id": "f24e71dd",
   "metadata": {},
   "outputs": [],
   "source": [
    "y = base.Churn\n",
    "X = base.drop('Churn',axis=1)\n",
    "Xc = sm.add_constant(X)"
   ]
  },
  {
   "cell_type": "code",
   "execution_count": 7,
   "id": "1a1d1d28",
   "metadata": {},
   "outputs": [],
   "source": [
    "X_train, X_test, y_train, y_test = train_test_split(Xc, y, test_size=0.30, random_state=42)"
   ]
  },
  {
   "cell_type": "code",
   "execution_count": 8,
   "id": "7d6b5279",
   "metadata": {},
   "outputs": [
    {
     "name": "stdout",
     "output_type": "stream",
     "text": [
      "X_train:  (4907, 19)\n",
      "X_test:  (2103, 19)\n",
      "y_train:  (4907,)\n",
      "y_test:  (2103,)\n"
     ]
    }
   ],
   "source": [
    "print('X_train: ',X_train.shape)\n",
    "print('X_test: ',X_test.shape)\n",
    "print('y_train: ',y_train.shape)\n",
    "print('y_test: ',y_test.shape)"
   ]
  },
  {
   "cell_type": "raw",
   "id": "a03b933b",
   "metadata": {},
   "source": [
    "# Smoting target variable\n",
    "\n",
    "from imblearn.over_sampling import SMOTE\n",
    "\n",
    "smote = SMOTE(random_state=42)\n",
    "X_train, y_train = smote.fit_resample(X_train,y_train)"
   ]
  },
  {
   "cell_type": "code",
   "execution_count": 9,
   "id": "689e1468",
   "metadata": {},
   "outputs": [
    {
     "data": {
      "text/plain": [
       "0    3589\n",
       "1    1318\n",
       "Name: Churn, dtype: int64"
      ]
     },
     "execution_count": 9,
     "metadata": {},
     "output_type": "execute_result"
    }
   ],
   "source": [
    "y_train.value_counts()"
   ]
  },
  {
   "cell_type": "markdown",
   "id": "6d077491",
   "metadata": {},
   "source": [
    "## Base Model:"
   ]
  },
  {
   "cell_type": "code",
   "execution_count": 10,
   "id": "e3d16050",
   "metadata": {},
   "outputs": [
    {
     "name": "stdout",
     "output_type": "stream",
     "text": [
      "Optimization terminated successfully.\n",
      "         Current function value: 0.423115\n",
      "         Iterations 7\n"
     ]
    },
    {
     "data": {
      "text/html": [
       "<table class=\"simpletable\">\n",
       "<caption>Logit Regression Results</caption>\n",
       "<tr>\n",
       "  <th>Dep. Variable:</th>         <td>Churn</td>      <th>  No. Observations:  </th>  <td>  4907</td> \n",
       "</tr>\n",
       "<tr>\n",
       "  <th>Model:</th>                 <td>Logit</td>      <th>  Df Residuals:      </th>  <td>  4888</td> \n",
       "</tr>\n",
       "<tr>\n",
       "  <th>Method:</th>                 <td>MLE</td>       <th>  Df Model:          </th>  <td>    18</td> \n",
       "</tr>\n",
       "<tr>\n",
       "  <th>Date:</th>            <td>Tue, 28 Feb 2023</td> <th>  Pseudo R-squ.:     </th>  <td>0.2728</td> \n",
       "</tr>\n",
       "<tr>\n",
       "  <th>Time:</th>                <td>21:21:35</td>     <th>  Log-Likelihood:    </th> <td> -2076.2</td>\n",
       "</tr>\n",
       "<tr>\n",
       "  <th>converged:</th>             <td>True</td>       <th>  LL-Null:           </th> <td> -2855.2</td>\n",
       "</tr>\n",
       "<tr>\n",
       "  <th>Covariance Type:</th>     <td>nonrobust</td>    <th>  LLR p-value:       </th>  <td> 0.000</td> \n",
       "</tr>\n",
       "</table>\n",
       "<table class=\"simpletable\">\n",
       "<tr>\n",
       "          <td></td>            <th>coef</th>     <th>std err</th>      <th>z</th>      <th>P>|z|</th>  <th>[0.025</th>    <th>0.975]</th>  \n",
       "</tr>\n",
       "<tr>\n",
       "  <th>const</th>            <td>   -0.3140</td> <td>    0.207</td> <td>   -1.518</td> <td> 0.129</td> <td>   -0.719</td> <td>    0.091</td>\n",
       "</tr>\n",
       "<tr>\n",
       "  <th>gender</th>           <td>   -0.0142</td> <td>    0.077</td> <td>   -0.184</td> <td> 0.854</td> <td>   -0.165</td> <td>    0.137</td>\n",
       "</tr>\n",
       "<tr>\n",
       "  <th>SeniorCitizen</th>    <td>    0.1958</td> <td>    0.101</td> <td>    1.948</td> <td> 0.051</td> <td>   -0.001</td> <td>    0.393</td>\n",
       "</tr>\n",
       "<tr>\n",
       "  <th>Partner</th>          <td>    0.0408</td> <td>    0.092</td> <td>    0.441</td> <td> 0.659</td> <td>   -0.140</td> <td>    0.222</td>\n",
       "</tr>\n",
       "<tr>\n",
       "  <th>Dependents</th>       <td>   -0.2589</td> <td>    0.108</td> <td>   -2.402</td> <td> 0.016</td> <td>   -0.470</td> <td>   -0.048</td>\n",
       "</tr>\n",
       "<tr>\n",
       "  <th>PhoneService</th>     <td>   -0.9005</td> <td>    0.170</td> <td>   -5.283</td> <td> 0.000</td> <td>   -1.235</td> <td>   -0.566</td>\n",
       "</tr>\n",
       "<tr>\n",
       "  <th>MultipleLines</th>    <td>    0.1009</td> <td>    0.048</td> <td>    2.112</td> <td> 0.035</td> <td>    0.007</td> <td>    0.195</td>\n",
       "</tr>\n",
       "<tr>\n",
       "  <th>InternetService</th>  <td>    0.2072</td> <td>    0.076</td> <td>    2.715</td> <td> 0.007</td> <td>    0.058</td> <td>    0.357</td>\n",
       "</tr>\n",
       "<tr>\n",
       "  <th>OnlineSecurity</th>   <td>   -0.2827</td> <td>    0.049</td> <td>   -5.715</td> <td> 0.000</td> <td>   -0.380</td> <td>   -0.186</td>\n",
       "</tr>\n",
       "<tr>\n",
       "  <th>OnlineBackup</th>     <td>   -0.1110</td> <td>    0.045</td> <td>   -2.463</td> <td> 0.014</td> <td>   -0.199</td> <td>   -0.023</td>\n",
       "</tr>\n",
       "<tr>\n",
       "  <th>DeviceProtection</th> <td>   -0.0611</td> <td>    0.047</td> <td>   -1.308</td> <td> 0.191</td> <td>   -0.153</td> <td>    0.030</td>\n",
       "</tr>\n",
       "<tr>\n",
       "  <th>TechSupport</th>      <td>   -0.1925</td> <td>    0.050</td> <td>   -3.827</td> <td> 0.000</td> <td>   -0.291</td> <td>   -0.094</td>\n",
       "</tr>\n",
       "<tr>\n",
       "  <th>StreamingTV</th>      <td>    0.0135</td> <td>    0.049</td> <td>    0.275</td> <td> 0.783</td> <td>   -0.082</td> <td>    0.109</td>\n",
       "</tr>\n",
       "<tr>\n",
       "  <th>StreamingMovies</th>  <td>    0.0302</td> <td>    0.049</td> <td>    0.616</td> <td> 0.538</td> <td>   -0.066</td> <td>    0.126</td>\n",
       "</tr>\n",
       "<tr>\n",
       "  <th>Contract</th>         <td>   -0.7366</td> <td>    0.091</td> <td>   -8.120</td> <td> 0.000</td> <td>   -0.914</td> <td>   -0.559</td>\n",
       "</tr>\n",
       "<tr>\n",
       "  <th>PaperlessBilling</th> <td>    0.3519</td> <td>    0.087</td> <td>    4.036</td> <td> 0.000</td> <td>    0.181</td> <td>    0.523</td>\n",
       "</tr>\n",
       "<tr>\n",
       "  <th>PaymentMethod</th>    <td>    0.0401</td> <td>    0.042</td> <td>    0.957</td> <td> 0.339</td> <td>   -0.042</td> <td>    0.122</td>\n",
       "</tr>\n",
       "<tr>\n",
       "  <th>MonthlyCharges</th>   <td>    0.7852</td> <td>    0.068</td> <td>   11.584</td> <td> 0.000</td> <td>    0.652</td> <td>    0.918</td>\n",
       "</tr>\n",
       "<tr>\n",
       "  <th>TotalCharges</th>     <td>   -0.8258</td> <td>    0.068</td> <td>  -12.079</td> <td> 0.000</td> <td>   -0.960</td> <td>   -0.692</td>\n",
       "</tr>\n",
       "</table>"
      ],
      "text/plain": [
       "<class 'statsmodels.iolib.summary.Summary'>\n",
       "\"\"\"\n",
       "                           Logit Regression Results                           \n",
       "==============================================================================\n",
       "Dep. Variable:                  Churn   No. Observations:                 4907\n",
       "Model:                          Logit   Df Residuals:                     4888\n",
       "Method:                           MLE   Df Model:                           18\n",
       "Date:                Tue, 28 Feb 2023   Pseudo R-squ.:                  0.2728\n",
       "Time:                        21:21:35   Log-Likelihood:                -2076.2\n",
       "converged:                       True   LL-Null:                       -2855.2\n",
       "Covariance Type:            nonrobust   LLR p-value:                     0.000\n",
       "====================================================================================\n",
       "                       coef    std err          z      P>|z|      [0.025      0.975]\n",
       "------------------------------------------------------------------------------------\n",
       "const               -0.3140      0.207     -1.518      0.129      -0.719       0.091\n",
       "gender              -0.0142      0.077     -0.184      0.854      -0.165       0.137\n",
       "SeniorCitizen        0.1958      0.101      1.948      0.051      -0.001       0.393\n",
       "Partner              0.0408      0.092      0.441      0.659      -0.140       0.222\n",
       "Dependents          -0.2589      0.108     -2.402      0.016      -0.470      -0.048\n",
       "PhoneService        -0.9005      0.170     -5.283      0.000      -1.235      -0.566\n",
       "MultipleLines        0.1009      0.048      2.112      0.035       0.007       0.195\n",
       "InternetService      0.2072      0.076      2.715      0.007       0.058       0.357\n",
       "OnlineSecurity      -0.2827      0.049     -5.715      0.000      -0.380      -0.186\n",
       "OnlineBackup        -0.1110      0.045     -2.463      0.014      -0.199      -0.023\n",
       "DeviceProtection    -0.0611      0.047     -1.308      0.191      -0.153       0.030\n",
       "TechSupport         -0.1925      0.050     -3.827      0.000      -0.291      -0.094\n",
       "StreamingTV          0.0135      0.049      0.275      0.783      -0.082       0.109\n",
       "StreamingMovies      0.0302      0.049      0.616      0.538      -0.066       0.126\n",
       "Contract            -0.7366      0.091     -8.120      0.000      -0.914      -0.559\n",
       "PaperlessBilling     0.3519      0.087      4.036      0.000       0.181       0.523\n",
       "PaymentMethod        0.0401      0.042      0.957      0.339      -0.042       0.122\n",
       "MonthlyCharges       0.7852      0.068     11.584      0.000       0.652       0.918\n",
       "TotalCharges        -0.8258      0.068    -12.079      0.000      -0.960      -0.692\n",
       "====================================================================================\n",
       "\"\"\""
      ]
     },
     "execution_count": 10,
     "metadata": {},
     "output_type": "execute_result"
    }
   ],
   "source": [
    "base_model = sm.Logit(y_train, X_train).fit()\n",
    "base_model.summary()"
   ]
  },
  {
   "cell_type": "code",
   "execution_count": 11,
   "id": "a9d4c958",
   "metadata": {},
   "outputs": [
    {
     "data": {
      "text/plain": [
       "Dependents          1.629999e-02\n",
       "PhoneService        1.272124e-07\n",
       "MultipleLines       3.470641e-02\n",
       "InternetService     6.622093e-03\n",
       "OnlineSecurity      1.096944e-08\n",
       "OnlineBackup        1.378060e-02\n",
       "TechSupport         1.296288e-04\n",
       "Contract            4.679378e-16\n",
       "PaperlessBilling    5.429910e-05\n",
       "MonthlyCharges      4.981876e-31\n",
       "TotalCharges        1.363512e-33\n",
       "dtype: float64"
      ]
     },
     "execution_count": 11,
     "metadata": {},
     "output_type": "execute_result"
    }
   ],
   "source": [
    "base_model.pvalues[base_model.pvalues<0.05]"
   ]
  },
  {
   "cell_type": "code",
   "execution_count": 12,
   "id": "9b495b5b",
   "metadata": {},
   "outputs": [
    {
     "name": "stdout",
     "output_type": "stream",
     "text": [
      "Optimization terminated successfully.\n",
      "         Current function value: 0.423115\n",
      "         Iterations 7\n",
      "gender 0.8538963030563274\n",
      "Optimization terminated successfully.\n",
      "         Current function value: 0.423118\n",
      "         Iterations 7\n",
      "StreamingTV 0.7833514737255725\n",
      "Optimization terminated successfully.\n",
      "         Current function value: 0.423126\n",
      "         Iterations 7\n",
      "Partner 0.6604085981098456\n",
      "Optimization terminated successfully.\n",
      "         Current function value: 0.423146\n",
      "         Iterations 7\n",
      "StreamingMovies 0.49119660282272337\n",
      "Optimization terminated successfully.\n",
      "         Current function value: 0.423194\n",
      "         Iterations 7\n",
      "PaymentMethod 0.3238188571001195\n",
      "Optimization terminated successfully.\n",
      "         Current function value: 0.423293\n",
      "         Iterations 7\n",
      "const 0.2693853727626684\n",
      "Optimization terminated successfully.\n",
      "         Current function value: 0.423418\n",
      "         Iterations 7\n",
      "DeviceProtection 0.1384804295570577\n",
      "Optimization terminated successfully.\n",
      "         Current function value: 0.423642\n",
      "         Iterations 7\n",
      "MultipleLines 0.09411446464570596\n",
      "Optimization terminated successfully.\n",
      "         Current function value: 0.423928\n",
      "         Iterations 7\n"
     ]
    },
    {
     "data": {
      "text/plain": [
       "['SeniorCitizen',\n",
       " 'Dependents',\n",
       " 'PhoneService',\n",
       " 'InternetService',\n",
       " 'OnlineSecurity',\n",
       " 'OnlineBackup',\n",
       " 'TechSupport',\n",
       " 'Contract',\n",
       " 'PaperlessBilling',\n",
       " 'MonthlyCharges',\n",
       " 'TotalCharges']"
      ]
     },
     "execution_count": 12,
     "metadata": {},
     "output_type": "execute_result"
    }
   ],
   "source": [
    "cols=list(X_train.columns)\n",
    "while len(cols)>1:\n",
    "    X_train=X_train[cols]\n",
    "    model=sm.Logit(y_train, X_train).fit()\n",
    "    p=model.pvalues\n",
    "    pmax=max(p)\n",
    "    pid=p.idxmax()           # index of series with highest value\n",
    "    if pmax>0.05:\n",
    "        cols.remove(pid)\n",
    "        print(pid,pmax)\n",
    "    else:\n",
    "        break\n",
    "cols"
   ]
  },
  {
   "cell_type": "code",
   "execution_count": 13,
   "id": "67d53eb1",
   "metadata": {},
   "outputs": [],
   "source": [
    "# The significant variables are :\n",
    "\n",
    "X_sig = X[['SeniorCitizen','Dependents','PhoneService','InternetService','OnlineSecurity','OnlineBackup','TechSupport',\n",
    "          'Contract','PaperlessBilling','MonthlyCharges','TotalCharges']]"
   ]
  },
  {
   "cell_type": "code",
   "execution_count": 14,
   "id": "08e0ebaa",
   "metadata": {},
   "outputs": [],
   "source": [
    "Xc_sig = sm.add_constant(X_sig)"
   ]
  },
  {
   "cell_type": "code",
   "execution_count": 15,
   "id": "ad6678d5",
   "metadata": {},
   "outputs": [],
   "source": [
    "X_train, X_test, y_train, y_test = train_test_split(Xc_sig, y, test_size=0.30, random_state=42)"
   ]
  },
  {
   "cell_type": "code",
   "execution_count": 16,
   "id": "76f20c3a",
   "metadata": {},
   "outputs": [
    {
     "name": "stdout",
     "output_type": "stream",
     "text": [
      "X_train:  (4907, 12)\n",
      "X_test:  (2103, 12)\n",
      "y_train:  (4907,)\n",
      "y_test:  (2103,)\n"
     ]
    }
   ],
   "source": [
    "print('X_train: ',X_train.shape)\n",
    "print('X_test: ',X_test.shape)\n",
    "print('y_train: ',y_train.shape)\n",
    "print('y_test: ',y_test.shape)"
   ]
  },
  {
   "cell_type": "code",
   "execution_count": 17,
   "id": "cc8598c9",
   "metadata": {},
   "outputs": [
    {
     "name": "stdout",
     "output_type": "stream",
     "text": [
      "Optimization terminated successfully.\n",
      "         Current function value: 0.423895\n",
      "         Iterations 7\n"
     ]
    },
    {
     "data": {
      "text/html": [
       "<table class=\"simpletable\">\n",
       "<caption>Logit Regression Results</caption>\n",
       "<tr>\n",
       "  <th>Dep. Variable:</th>         <td>Churn</td>      <th>  No. Observations:  </th>  <td>  4907</td> \n",
       "</tr>\n",
       "<tr>\n",
       "  <th>Model:</th>                 <td>Logit</td>      <th>  Df Residuals:      </th>  <td>  4895</td> \n",
       "</tr>\n",
       "<tr>\n",
       "  <th>Method:</th>                 <td>MLE</td>       <th>  Df Model:          </th>  <td>    11</td> \n",
       "</tr>\n",
       "<tr>\n",
       "  <th>Date:</th>            <td>Tue, 28 Feb 2023</td> <th>  Pseudo R-squ.:     </th>  <td>0.2715</td> \n",
       "</tr>\n",
       "<tr>\n",
       "  <th>Time:</th>                <td>21:21:35</td>     <th>  Log-Likelihood:    </th> <td> -2080.1</td>\n",
       "</tr>\n",
       "<tr>\n",
       "  <th>converged:</th>             <td>True</td>       <th>  LL-Null:           </th> <td> -2855.2</td>\n",
       "</tr>\n",
       "<tr>\n",
       "  <th>Covariance Type:</th>     <td>nonrobust</td>    <th>  LLR p-value:       </th>  <td> 0.000</td> \n",
       "</tr>\n",
       "</table>\n",
       "<table class=\"simpletable\">\n",
       "<tr>\n",
       "          <td></td>            <th>coef</th>     <th>std err</th>      <th>z</th>      <th>P>|z|</th>  <th>[0.025</th>    <th>0.975]</th>  \n",
       "</tr>\n",
       "<tr>\n",
       "  <th>const</th>            <td>   -0.0890</td> <td>    0.158</td> <td>   -0.563</td> <td> 0.573</td> <td>   -0.399</td> <td>    0.221</td>\n",
       "</tr>\n",
       "<tr>\n",
       "  <th>SeniorCitizen</th>    <td>    0.2103</td> <td>    0.099</td> <td>    2.118</td> <td> 0.034</td> <td>    0.016</td> <td>    0.405</td>\n",
       "</tr>\n",
       "<tr>\n",
       "  <th>Dependents</th>       <td>   -0.2411</td> <td>    0.098</td> <td>   -2.470</td> <td> 0.014</td> <td>   -0.432</td> <td>   -0.050</td>\n",
       "</tr>\n",
       "<tr>\n",
       "  <th>PhoneService</th>     <td>   -0.9791</td> <td>    0.160</td> <td>   -6.101</td> <td> 0.000</td> <td>   -1.294</td> <td>   -0.665</td>\n",
       "</tr>\n",
       "<tr>\n",
       "  <th>InternetService</th>  <td>    0.2239</td> <td>    0.072</td> <td>    3.092</td> <td> 0.002</td> <td>    0.082</td> <td>    0.366</td>\n",
       "</tr>\n",
       "<tr>\n",
       "  <th>OnlineSecurity</th>   <td>   -0.2865</td> <td>    0.049</td> <td>   -5.812</td> <td> 0.000</td> <td>   -0.383</td> <td>   -0.190</td>\n",
       "</tr>\n",
       "<tr>\n",
       "  <th>OnlineBackup</th>     <td>   -0.1150</td> <td>    0.045</td> <td>   -2.562</td> <td> 0.010</td> <td>   -0.203</td> <td>   -0.027</td>\n",
       "</tr>\n",
       "<tr>\n",
       "  <th>TechSupport</th>      <td>   -0.1984</td> <td>    0.050</td> <td>   -3.995</td> <td> 0.000</td> <td>   -0.296</td> <td>   -0.101</td>\n",
       "</tr>\n",
       "<tr>\n",
       "  <th>Contract</th>         <td>   -0.7554</td> <td>    0.089</td> <td>   -8.445</td> <td> 0.000</td> <td>   -0.931</td> <td>   -0.580</td>\n",
       "</tr>\n",
       "<tr>\n",
       "  <th>PaperlessBilling</th> <td>    0.3576</td> <td>    0.087</td> <td>    4.109</td> <td> 0.000</td> <td>    0.187</td> <td>    0.528</td>\n",
       "</tr>\n",
       "<tr>\n",
       "  <th>MonthlyCharges</th>   <td>    0.8312</td> <td>    0.058</td> <td>   14.414</td> <td> 0.000</td> <td>    0.718</td> <td>    0.944</td>\n",
       "</tr>\n",
       "<tr>\n",
       "  <th>TotalCharges</th>     <td>   -0.8063</td> <td>    0.063</td> <td>  -12.783</td> <td> 0.000</td> <td>   -0.930</td> <td>   -0.683</td>\n",
       "</tr>\n",
       "</table>"
      ],
      "text/plain": [
       "<class 'statsmodels.iolib.summary.Summary'>\n",
       "\"\"\"\n",
       "                           Logit Regression Results                           \n",
       "==============================================================================\n",
       "Dep. Variable:                  Churn   No. Observations:                 4907\n",
       "Model:                          Logit   Df Residuals:                     4895\n",
       "Method:                           MLE   Df Model:                           11\n",
       "Date:                Tue, 28 Feb 2023   Pseudo R-squ.:                  0.2715\n",
       "Time:                        21:21:35   Log-Likelihood:                -2080.1\n",
       "converged:                       True   LL-Null:                       -2855.2\n",
       "Covariance Type:            nonrobust   LLR p-value:                     0.000\n",
       "====================================================================================\n",
       "                       coef    std err          z      P>|z|      [0.025      0.975]\n",
       "------------------------------------------------------------------------------------\n",
       "const               -0.0890      0.158     -0.563      0.573      -0.399       0.221\n",
       "SeniorCitizen        0.2103      0.099      2.118      0.034       0.016       0.405\n",
       "Dependents          -0.2411      0.098     -2.470      0.014      -0.432      -0.050\n",
       "PhoneService        -0.9791      0.160     -6.101      0.000      -1.294      -0.665\n",
       "InternetService      0.2239      0.072      3.092      0.002       0.082       0.366\n",
       "OnlineSecurity      -0.2865      0.049     -5.812      0.000      -0.383      -0.190\n",
       "OnlineBackup        -0.1150      0.045     -2.562      0.010      -0.203      -0.027\n",
       "TechSupport         -0.1984      0.050     -3.995      0.000      -0.296      -0.101\n",
       "Contract            -0.7554      0.089     -8.445      0.000      -0.931      -0.580\n",
       "PaperlessBilling     0.3576      0.087      4.109      0.000       0.187       0.528\n",
       "MonthlyCharges       0.8312      0.058     14.414      0.000       0.718       0.944\n",
       "TotalCharges        -0.8063      0.063    -12.783      0.000      -0.930      -0.683\n",
       "====================================================================================\n",
       "\"\"\""
      ]
     },
     "execution_count": 17,
     "metadata": {},
     "output_type": "execute_result"
    }
   ],
   "source": [
    "base_model_sig = sm.Logit(y_train, X_train).fit()\n",
    "base_model_sig.summary()"
   ]
  },
  {
   "cell_type": "code",
   "execution_count": 18,
   "id": "5a524417",
   "metadata": {},
   "outputs": [],
   "source": [
    "y_pred_prob = base_model_sig.predict(X_test)"
   ]
  },
  {
   "cell_type": "code",
   "execution_count": 19,
   "id": "5a94e422",
   "metadata": {},
   "outputs": [],
   "source": [
    "y_pred = [0 if x<0.5 else 1 for x in y_pred_prob]"
   ]
  },
  {
   "cell_type": "code",
   "execution_count": 20,
   "id": "d946cc63",
   "metadata": {},
   "outputs": [
    {
     "data": {
      "text/plain": [
       "[0, 0, 1, 0, 0]"
      ]
     },
     "execution_count": 20,
     "metadata": {},
     "output_type": "execute_result"
    }
   ],
   "source": [
    "y_pred[0:5]"
   ]
  },
  {
   "cell_type": "code",
   "execution_count": 21,
   "id": "0c7f0604",
   "metadata": {},
   "outputs": [
    {
     "data": {
      "text/plain": [
       "<sklearn.metrics._plot.confusion_matrix.ConfusionMatrixDisplay at 0x1301bae50>"
      ]
     },
     "execution_count": 21,
     "metadata": {},
     "output_type": "execute_result"
    },
    {
     "data": {
      "image/png": "[encoded data removed]",
      "text/plain": [
       "<Figure size 2000x1000 with 2 Axes>"
      ]
     },
     "metadata": {},
     "output_type": "display_data"
    }
   ],
   "source": [
    "from sklearn.metrics import ConfusionMatrixDisplay\n",
    "ConfusionMatrixDisplay.from_predictions(y_test, y_pred)"
   ]
  },
  {
   "cell_type": "code",
   "execution_count": 22,
   "id": "f5bc221e",
   "metadata": {},
   "outputs": [
    {
     "name": "stdout",
     "output_type": "stream",
     "text": [
      "              precision    recall  f1-score   support\n",
      "\n",
      "           0       0.86      0.91      0.88      1564\n",
      "           1       0.67      0.56      0.61       539\n",
      "\n",
      "    accuracy                           0.82      2103\n",
      "   macro avg       0.77      0.73      0.75      2103\n",
      "weighted avg       0.81      0.82      0.81      2103\n",
      "\n"
     ]
    }
   ],
   "source": [
    "print(classification_report(y_test, y_pred))"
   ]
  },
  {
   "cell_type": "markdown",
   "id": "4419f1c9",
   "metadata": {},
   "source": [
    "## Scores for different cutoff:"
   ]
  },
  {
   "cell_type": "code",
   "execution_count": 23,
   "id": "8e913485",
   "metadata": {},
   "outputs": [],
   "source": [
    "from sklearn import metrics"
   ]
  },
  {
   "cell_type": "code",
   "execution_count": 24,
   "id": "7a4fb551",
   "metadata": {},
   "outputs": [],
   "source": [
    "score_card = pd.DataFrame(columns=['Probability Cutoff','AUC score','Precision Score','Recall Score','Accuracy Score',\n",
    "                                  'Kappa Score','f1-Score'])\n",
    "\n",
    "def up_scorecard(model,cutoff):\n",
    "    \n",
    "    y_pred_prob = model.predict(X_test)\n",
    "    y_pred = [0 if x<cutoff else 1 for x in y_pred_prob]\n",
    "    global score_card\n",
    "    \n",
    "    score_card = score_card.append({'Probability Cutoff': cutoff,\n",
    "                                   'AUC score': metrics.roc_auc_score(y_test,y_pred),\n",
    "                                   'Precision Score': metrics.precision_score(y_test,y_pred),\n",
    "                                   'Recall Score': metrics.recall_score(y_test,y_pred),\n",
    "                                   'Accuracy Score': metrics.accuracy_score(y_test,y_pred),\n",
    "                                   'Kappa Score': metrics.cohen_kappa_score(y_test,y_pred),\n",
    "                                   'f1-Score': metrics.f1_score(y_test,y_pred)},\n",
    "                                   ignore_index = True)"
   ]
  },
  {
   "cell_type": "code",
   "execution_count": 25,
   "id": "491aa756",
   "metadata": {},
   "outputs": [],
   "source": [
    "cutoff = [0.1, 0.15, 0.2, 0.27, 0.3, 0.35, 0.4]\n",
    "\n",
    "for value in cutoff:\n",
    "    up_scorecard(base_model_sig,value)"
   ]
  },
  {
   "cell_type": "code",
   "execution_count": 26,
   "id": "ea67ec3f",
   "metadata": {},
   "outputs": [
    {
     "data": {
      "text/html": [
       "<div>\n",
       "<style scoped>\n",
       "    .dataframe tbody tr th:only-of-type {\n",
       "        vertical-align: middle;\n",
       "    }\n",
       "\n",
       "    .dataframe tbody tr th {\n",
       "        vertical-align: top;\n",
       "    }\n",
       "\n",
       "    .dataframe thead th {\n",
       "        text-align: right;\n",
       "    }\n",
       "</style>\n",
       "<table border=\"1\" class=\"dataframe\">\n",
       "  <thead>\n",
       "    <tr style=\"text-align: right;\">\n",
       "      <th></th>\n",
       "      <th>Probability Cutoff</th>\n",
       "      <th>AUC score</th>\n",
       "      <th>Precision Score</th>\n",
       "      <th>Recall Score</th>\n",
       "      <th>Accuracy Score</th>\n",
       "      <th>Kappa Score</th>\n",
       "      <th>f1-Score</th>\n",
       "    </tr>\n",
       "  </thead>\n",
       "  <tbody>\n",
       "    <tr>\n",
       "      <th>0</th>\n",
       "      <td>0.10</td>\n",
       "      <td>0.717732</td>\n",
       "      <td>0.386567</td>\n",
       "      <td>0.961039</td>\n",
       "      <td>0.599144</td>\n",
       "      <td>0.292853</td>\n",
       "      <td>0.551357</td>\n",
       "    </tr>\n",
       "    <tr>\n",
       "      <th>1</th>\n",
       "      <td>0.15</td>\n",
       "      <td>0.738150</td>\n",
       "      <td>0.415141</td>\n",
       "      <td>0.925788</td>\n",
       "      <td>0.646695</td>\n",
       "      <td>0.339470</td>\n",
       "      <td>0.573234</td>\n",
       "    </tr>\n",
       "    <tr>\n",
       "      <th>2</th>\n",
       "      <td>0.20</td>\n",
       "      <td>0.756902</td>\n",
       "      <td>0.454721</td>\n",
       "      <td>0.875696</td>\n",
       "      <td>0.699001</td>\n",
       "      <td>0.394212</td>\n",
       "      <td>0.598605</td>\n",
       "    </tr>\n",
       "    <tr>\n",
       "      <th>3</th>\n",
       "      <td>0.27</td>\n",
       "      <td>0.760171</td>\n",
       "      <td>0.498837</td>\n",
       "      <td>0.795918</td>\n",
       "      <td>0.742748</td>\n",
       "      <td>0.435378</td>\n",
       "      <td>0.613295</td>\n",
       "    </tr>\n",
       "    <tr>\n",
       "      <th>4</th>\n",
       "      <td>0.30</td>\n",
       "      <td>0.764448</td>\n",
       "      <td>0.523990</td>\n",
       "      <td>0.769944</td>\n",
       "      <td>0.761769</td>\n",
       "      <td>0.458390</td>\n",
       "      <td>0.623591</td>\n",
       "    </tr>\n",
       "    <tr>\n",
       "      <th>5</th>\n",
       "      <td>0.35</td>\n",
       "      <td>0.762933</td>\n",
       "      <td>0.554455</td>\n",
       "      <td>0.727273</td>\n",
       "      <td>0.780314</td>\n",
       "      <td>0.477134</td>\n",
       "      <td>0.629213</td>\n",
       "    </tr>\n",
       "    <tr>\n",
       "      <th>6</th>\n",
       "      <td>0.40</td>\n",
       "      <td>0.755276</td>\n",
       "      <td>0.591803</td>\n",
       "      <td>0.669759</td>\n",
       "      <td>0.796957</td>\n",
       "      <td>0.489426</td>\n",
       "      <td>0.628372</td>\n",
       "    </tr>\n",
       "  </tbody>\n",
       "</table>\n",
       "</div>"
      ],
      "text/plain": [
       "   Probability Cutoff  AUC score  Precision Score  Recall Score  \\\n",
       "0                0.10   0.717732         0.386567      0.961039   \n",
       "1                0.15   0.738150         0.415141      0.925788   \n",
       "2                0.20   0.756902         0.454721      0.875696   \n",
       "3                0.27   0.760171         0.498837      0.795918   \n",
       "4                0.30   0.764448         0.523990      0.769944   \n",
       "5                0.35   0.762933         0.554455      0.727273   \n",
       "6                0.40   0.755276         0.591803      0.669759   \n",
       "\n",
       "   Accuracy Score  Kappa Score  f1-Score  \n",
       "0        0.599144     0.292853  0.551357  \n",
       "1        0.646695     0.339470  0.573234  \n",
       "2        0.699001     0.394212  0.598605  \n",
       "3        0.742748     0.435378  0.613295  \n",
       "4        0.761769     0.458390  0.623591  \n",
       "5        0.780314     0.477134  0.629213  \n",
       "6        0.796957     0.489426  0.628372  "
      ]
     },
     "execution_count": 26,
     "metadata": {},
     "output_type": "execute_result"
    }
   ],
   "source": [
    "score_card"
   ]
  },
  {
   "cell_type": "code",
   "execution_count": 27,
   "id": "24c8b47b",
   "metadata": {},
   "outputs": [],
   "source": [
    "y_pred = [0 if x<0.30 else 1 for x in y_pred_prob]"
   ]
  },
  {
   "cell_type": "code",
   "execution_count": 28,
   "id": "b1c6cb0d",
   "metadata": {},
   "outputs": [
    {
     "data": {
      "text/plain": [
       "<sklearn.metrics._plot.confusion_matrix.ConfusionMatrixDisplay at 0x131f9fe20>"
      ]
     },
     "execution_count": 28,
     "metadata": {},
     "output_type": "execute_result"
    },
    {
     "data": {
      "image/png": "[encoded data removed]",
      "text/plain": [
       "<Figure size 2000x1000 with 2 Axes>"
      ]
     },
     "metadata": {},
     "output_type": "display_data"
    }
   ],
   "source": [
    "ConfusionMatrixDisplay.from_predictions(y_test,y_pred)"
   ]
  },
  {
   "cell_type": "code",
   "execution_count": 29,
   "id": "05b50ceb",
   "metadata": {},
   "outputs": [
    {
     "data": {
      "image/png": "[encoded data removed]",
      "text/plain": [
       "<Figure size 2000x1000 with 1 Axes>"
      ]
     },
     "metadata": {},
     "output_type": "display_data"
    }
   ],
   "source": [
    "fpr, tpr, thresholds = roc_curve(y_test, y_pred)\n",
    "\n",
    "plt.plot(fpr, tpr)\n",
    "\n",
    "plt.xlim([0.0, 1.0])\n",
    "plt.ylim([0.0, 1.0])\n",
    "\n",
    "plt.plot([0, 1], [0, 1],'r--')\n",
    "\n",
    "plt.title('ROC curve for Telecom Churn Classifier (Full Model)', fontsize = 15)\n",
    "plt.xlabel('False positive rate (1-Specificity)', fontsize = 15)\n",
    "plt.ylabel('True positive rate (Sensitivity)', fontsize = 15)\n",
    "\n",
    "plt.text(x = 0.02, y = 0.9, s = ('AUC Score:', round(metrics.roc_auc_score(y_test, y_pred),4)))\n",
    "                               \n",
    "plt.grid(True)"
   ]
  },
  {
   "cell_type": "markdown",
   "id": "be6dfd12",
   "metadata": {},
   "source": [
    "## Interpretation :\n",
    "\n",
    "from above plot, we can say that our base model as LOGISTIC REGRESSIOn has AUC score of 0.7644"
   ]
  },
  {
   "cell_type": "code",
   "execution_count": null,
   "id": "58bb0045",
   "metadata": {},
   "outputs": [],
   "source": []
  },
  {
   "cell_type": "code",
   "execution_count": null,
   "id": "263ad57f",
   "metadata": {},
   "outputs": [],
   "source": []
  }
 ],
 "metadata": {
  "kernelspec": {
   "display_name": "Python 3 (ipykernel)",
   "language": "python",
   "name": "python3"
  },
  "language_info": {
   "codemirror_mode": {
    "name": "ipython",
    "version": 3
   },
   "file_extension": ".py",
   "mimetype": "text/x-python",
   "name": "python",
   "nbconvert_exporter": "python",
   "pygments_lexer": "ipython3",
   "version": "3.9.12"
  }
 },
 "nbformat": 4,
 "nbformat_minor": 5
}
