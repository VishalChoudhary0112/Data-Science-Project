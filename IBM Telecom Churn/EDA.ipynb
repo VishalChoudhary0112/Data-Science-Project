{
 "cells": [
  {
   "cell_type": "code",
   "execution_count": 1,
   "id": "92aa06e2",
   "metadata": {},
   "outputs": [],
   "source": [
    "import numpy as np\n",
    "import pandas as pd\n",
    "import matplotlib.pyplot as plt\n",
    "import seaborn as sns\n",
    "import scipy.stats as stats\n",
    "import statsmodels.api as sm\n",
    "from statsmodels.stats.outliers_influence import variance_inflation_factor as VIF\n",
    "from sklearn.preprocessing import StandardScaler,OrdinalEncoder,MinMaxScaler\n",
    "from sklearn.model_selection import train_test_split,GridSearchCV\n",
    "from sklearn.linear_model import LogisticRegression\n",
    "from sklearn.tree import DecisionTreeClassifier,plot_tree\n",
    "from sklearn.ensemble import RandomForestClassifier,AdaBoostClassifier,GradientBoostingClassifier,BaggingClassifier\n",
    "from sklearn.neighbors import KNeighborsClassifier\n",
    "from sklearn.naive_bayes import GaussianNB\n",
    "from sklearn.metrics import accuracy_score,confusion_matrix,classification_report,cohen_kappa_score,roc_auc_score,roc_curve\n",
    "from sklearn.metrics import precision_score,recall_score,f1_score\n",
    "from sklearn.feature_selection import SequentialFeatureSelector as sfs,RFE\n",
    "from xgboost import XGBClassifier\n",
    "import warnings\n",
    "warnings.filterwarnings('ignore')\n",
    "plt.rcParams['figure.figsize']=[20,10]"
   ]
  },
  {
   "cell_type": "code",
   "execution_count": 2,
   "id": "b856612b",
   "metadata": {},
   "outputs": [],
   "source": [
    "data = pd.read_csv('telcom.csv')"
   ]
  },
  {
   "cell_type": "code",
   "execution_count": 3,
   "id": "1df70e4c",
   "metadata": {},
   "outputs": [
    {
     "data": {
      "text/html": [
       "<div>\n",
       "<style scoped>\n",
       "    .dataframe tbody tr th:only-of-type {\n",
       "        vertical-align: middle;\n",
       "    }\n",
       "\n",
       "    .dataframe tbody tr th {\n",
       "        vertical-align: top;\n",
       "    }\n",
       "\n",
       "    .dataframe thead th {\n",
       "        text-align: right;\n",
       "    }\n",
       "</style>\n",
       "<table border=\"1\" class=\"dataframe\">\n",
       "  <thead>\n",
       "    <tr style=\"text-align: right;\">\n",
       "      <th></th>\n",
       "      <th>customerID</th>\n",
       "      <th>gender</th>\n",
       "      <th>SeniorCitizen</th>\n",
       "      <th>Partner</th>\n",
       "      <th>Dependents</th>\n",
       "      <th>tenure</th>\n",
       "      <th>PhoneService</th>\n",
       "      <th>MultipleLines</th>\n",
       "      <th>InternetService</th>\n",
       "      <th>OnlineSecurity</th>\n",
       "      <th>...</th>\n",
       "      <th>DeviceProtection</th>\n",
       "      <th>TechSupport</th>\n",
       "      <th>StreamingTV</th>\n",
       "      <th>StreamingMovies</th>\n",
       "      <th>Contract</th>\n",
       "      <th>PaperlessBilling</th>\n",
       "      <th>PaymentMethod</th>\n",
       "      <th>MonthlyCharges</th>\n",
       "      <th>TotalCharges</th>\n",
       "      <th>Churn</th>\n",
       "    </tr>\n",
       "  </thead>\n",
       "  <tbody>\n",
       "    <tr>\n",
       "      <th>0</th>\n",
       "      <td>7590-VHVEG</td>\n",
       "      <td>Female</td>\n",
       "      <td>0</td>\n",
       "      <td>Yes</td>\n",
       "      <td>No</td>\n",
       "      <td>1</td>\n",
       "      <td>No</td>\n",
       "      <td>No phone service</td>\n",
       "      <td>DSL</td>\n",
       "      <td>No</td>\n",
       "      <td>...</td>\n",
       "      <td>No</td>\n",
       "      <td>No</td>\n",
       "      <td>No</td>\n",
       "      <td>No</td>\n",
       "      <td>Month-to-month</td>\n",
       "      <td>Yes</td>\n",
       "      <td>Electronic check</td>\n",
       "      <td>29.85</td>\n",
       "      <td>29.85</td>\n",
       "      <td>No</td>\n",
       "    </tr>\n",
       "    <tr>\n",
       "      <th>1</th>\n",
       "      <td>5575-GNVDE</td>\n",
       "      <td>Male</td>\n",
       "      <td>0</td>\n",
       "      <td>No</td>\n",
       "      <td>No</td>\n",
       "      <td>34</td>\n",
       "      <td>Yes</td>\n",
       "      <td>No</td>\n",
       "      <td>DSL</td>\n",
       "      <td>Yes</td>\n",
       "      <td>...</td>\n",
       "      <td>Yes</td>\n",
       "      <td>No</td>\n",
       "      <td>No</td>\n",
       "      <td>No</td>\n",
       "      <td>One year</td>\n",
       "      <td>No</td>\n",
       "      <td>Mailed check</td>\n",
       "      <td>56.95</td>\n",
       "      <td>1889.5</td>\n",
       "      <td>No</td>\n",
       "    </tr>\n",
       "    <tr>\n",
       "      <th>2</th>\n",
       "      <td>3668-QPYBK</td>\n",
       "      <td>Male</td>\n",
       "      <td>0</td>\n",
       "      <td>No</td>\n",
       "      <td>No</td>\n",
       "      <td>2</td>\n",
       "      <td>Yes</td>\n",
       "      <td>No</td>\n",
       "      <td>DSL</td>\n",
       "      <td>Yes</td>\n",
       "      <td>...</td>\n",
       "      <td>No</td>\n",
       "      <td>No</td>\n",
       "      <td>No</td>\n",
       "      <td>No</td>\n",
       "      <td>Month-to-month</td>\n",
       "      <td>Yes</td>\n",
       "      <td>Mailed check</td>\n",
       "      <td>53.85</td>\n",
       "      <td>108.15</td>\n",
       "      <td>Yes</td>\n",
       "    </tr>\n",
       "    <tr>\n",
       "      <th>3</th>\n",
       "      <td>7795-CFOCW</td>\n",
       "      <td>Male</td>\n",
       "      <td>0</td>\n",
       "      <td>No</td>\n",
       "      <td>No</td>\n",
       "      <td>45</td>\n",
       "      <td>No</td>\n",
       "      <td>No phone service</td>\n",
       "      <td>DSL</td>\n",
       "      <td>Yes</td>\n",
       "      <td>...</td>\n",
       "      <td>Yes</td>\n",
       "      <td>Yes</td>\n",
       "      <td>No</td>\n",
       "      <td>No</td>\n",
       "      <td>One year</td>\n",
       "      <td>No</td>\n",
       "      <td>Bank transfer (automatic)</td>\n",
       "      <td>42.30</td>\n",
       "      <td>1840.75</td>\n",
       "      <td>No</td>\n",
       "    </tr>\n",
       "    <tr>\n",
       "      <th>4</th>\n",
       "      <td>9237-HQITU</td>\n",
       "      <td>Female</td>\n",
       "      <td>0</td>\n",
       "      <td>No</td>\n",
       "      <td>No</td>\n",
       "      <td>2</td>\n",
       "      <td>Yes</td>\n",
       "      <td>No</td>\n",
       "      <td>Fiber optic</td>\n",
       "      <td>No</td>\n",
       "      <td>...</td>\n",
       "      <td>No</td>\n",
       "      <td>No</td>\n",
       "      <td>No</td>\n",
       "      <td>No</td>\n",
       "      <td>Month-to-month</td>\n",
       "      <td>Yes</td>\n",
       "      <td>Electronic check</td>\n",
       "      <td>70.70</td>\n",
       "      <td>151.65</td>\n",
       "      <td>Yes</td>\n",
       "    </tr>\n",
       "  </tbody>\n",
       "</table>\n",
       "<p>5 rows × 21 columns</p>\n",
       "</div>"
      ],
      "text/plain": [
       "   customerID  gender  SeniorCitizen Partner Dependents  tenure PhoneService  \\\n",
       "0  7590-VHVEG  Female              0     Yes         No       1           No   \n",
       "1  5575-GNVDE    Male              0      No         No      34          Yes   \n",
       "2  3668-QPYBK    Male              0      No         No       2          Yes   \n",
       "3  7795-CFOCW    Male              0      No         No      45           No   \n",
       "4  9237-HQITU  Female              0      No         No       2          Yes   \n",
       "\n",
       "      MultipleLines InternetService OnlineSecurity  ... DeviceProtection  \\\n",
       "0  No phone service             DSL             No  ...               No   \n",
       "1                No             DSL            Yes  ...              Yes   \n",
       "2                No             DSL            Yes  ...               No   \n",
       "3  No phone service             DSL            Yes  ...              Yes   \n",
       "4                No     Fiber optic             No  ...               No   \n",
       "\n",
       "  TechSupport StreamingTV StreamingMovies        Contract PaperlessBilling  \\\n",
       "0          No          No              No  Month-to-month              Yes   \n",
       "1          No          No              No        One year               No   \n",
       "2          No          No              No  Month-to-month              Yes   \n",
       "3         Yes          No              No        One year               No   \n",
       "4          No          No              No  Month-to-month              Yes   \n",
       "\n",
       "               PaymentMethod MonthlyCharges  TotalCharges Churn  \n",
       "0           Electronic check          29.85         29.85    No  \n",
       "1               Mailed check          56.95        1889.5    No  \n",
       "2               Mailed check          53.85        108.15   Yes  \n",
       "3  Bank transfer (automatic)          42.30       1840.75    No  \n",
       "4           Electronic check          70.70        151.65   Yes  \n",
       "\n",
       "[5 rows x 21 columns]"
      ]
     },
     "execution_count": 3,
     "metadata": {},
     "output_type": "execute_result"
    }
   ],
   "source": [
    "data.head()"
   ]
  },
  {
   "cell_type": "code",
   "execution_count": 4,
   "id": "88c03a74",
   "metadata": {},
   "outputs": [
    {
     "data": {
      "text/plain": [
       "(7043, 21)"
      ]
     },
     "execution_count": 4,
     "metadata": {},
     "output_type": "execute_result"
    }
   ],
   "source": [
    "data.shape"
   ]
  },
  {
   "cell_type": "code",
   "execution_count": 5,
   "id": "709bd297",
   "metadata": {},
   "outputs": [
    {
     "name": "stdout",
     "output_type": "stream",
     "text": [
      "<class 'pandas.core.frame.DataFrame'>\n",
      "RangeIndex: 7043 entries, 0 to 7042\n",
      "Data columns (total 21 columns):\n",
      " #   Column            Non-Null Count  Dtype  \n",
      "---  ------            --------------  -----  \n",
      " 0   customerID        7043 non-null   object \n",
      " 1   gender            7043 non-null   object \n",
      " 2   SeniorCitizen     7043 non-null   int64  \n",
      " 3   Partner           7043 non-null   object \n",
      " 4   Dependents        7043 non-null   object \n",
      " 5   tenure            7043 non-null   int64  \n",
      " 6   PhoneService      7043 non-null   object \n",
      " 7   MultipleLines     7043 non-null   object \n",
      " 8   InternetService   7043 non-null   object \n",
      " 9   OnlineSecurity    7043 non-null   object \n",
      " 10  OnlineBackup      7043 non-null   object \n",
      " 11  DeviceProtection  7043 non-null   object \n",
      " 12  TechSupport       7043 non-null   object \n",
      " 13  StreamingTV       7043 non-null   object \n",
      " 14  StreamingMovies   7043 non-null   object \n",
      " 15  Contract          7043 non-null   object \n",
      " 16  PaperlessBilling  7043 non-null   object \n",
      " 17  PaymentMethod     7043 non-null   object \n",
      " 18  MonthlyCharges    7043 non-null   float64\n",
      " 19  TotalCharges      7043 non-null   object \n",
      " 20  Churn             7043 non-null   object \n",
      "dtypes: float64(1), int64(2), object(18)\n",
      "memory usage: 1.1+ MB\n"
     ]
    }
   ],
   "source": [
    "data.info()"
   ]
  },
  {
   "cell_type": "code",
   "execution_count": 6,
   "id": "a690eac3",
   "metadata": {},
   "outputs": [
    {
     "data": {
      "text/html": [
       "<div>\n",
       "<style scoped>\n",
       "    .dataframe tbody tr th:only-of-type {\n",
       "        vertical-align: middle;\n",
       "    }\n",
       "\n",
       "    .dataframe tbody tr th {\n",
       "        vertical-align: top;\n",
       "    }\n",
       "\n",
       "    .dataframe thead th {\n",
       "        text-align: right;\n",
       "    }\n",
       "</style>\n",
       "<table border=\"1\" class=\"dataframe\">\n",
       "  <thead>\n",
       "    <tr style=\"text-align: right;\">\n",
       "      <th></th>\n",
       "      <th>count</th>\n",
       "      <th>mean</th>\n",
       "      <th>std</th>\n",
       "      <th>min</th>\n",
       "      <th>25%</th>\n",
       "      <th>50%</th>\n",
       "      <th>75%</th>\n",
       "      <th>max</th>\n",
       "    </tr>\n",
       "  </thead>\n",
       "  <tbody>\n",
       "    <tr>\n",
       "      <th>SeniorCitizen</th>\n",
       "      <td>7043.0</td>\n",
       "      <td>0.162147</td>\n",
       "      <td>0.368612</td>\n",
       "      <td>0.00</td>\n",
       "      <td>0.0</td>\n",
       "      <td>0.00</td>\n",
       "      <td>0.00</td>\n",
       "      <td>1.00</td>\n",
       "    </tr>\n",
       "    <tr>\n",
       "      <th>tenure</th>\n",
       "      <td>7043.0</td>\n",
       "      <td>32.371149</td>\n",
       "      <td>24.559481</td>\n",
       "      <td>0.00</td>\n",
       "      <td>9.0</td>\n",
       "      <td>29.00</td>\n",
       "      <td>55.00</td>\n",
       "      <td>72.00</td>\n",
       "    </tr>\n",
       "    <tr>\n",
       "      <th>MonthlyCharges</th>\n",
       "      <td>7043.0</td>\n",
       "      <td>64.761692</td>\n",
       "      <td>30.090047</td>\n",
       "      <td>18.25</td>\n",
       "      <td>35.5</td>\n",
       "      <td>70.35</td>\n",
       "      <td>89.85</td>\n",
       "      <td>118.75</td>\n",
       "    </tr>\n",
       "  </tbody>\n",
       "</table>\n",
       "</div>"
      ],
      "text/plain": [
       "                 count       mean        std    min   25%    50%    75%  \\\n",
       "SeniorCitizen   7043.0   0.162147   0.368612   0.00   0.0   0.00   0.00   \n",
       "tenure          7043.0  32.371149  24.559481   0.00   9.0  29.00  55.00   \n",
       "MonthlyCharges  7043.0  64.761692  30.090047  18.25  35.5  70.35  89.85   \n",
       "\n",
       "                   max  \n",
       "SeniorCitizen     1.00  \n",
       "tenure           72.00  \n",
       "MonthlyCharges  118.75  "
      ]
     },
     "execution_count": 6,
     "metadata": {},
     "output_type": "execute_result"
    }
   ],
   "source": [
    "data.describe().T"
   ]
  },
  {
   "cell_type": "code",
   "execution_count": 7,
   "id": "a63c581e",
   "metadata": {},
   "outputs": [
    {
     "name": "stdout",
     "output_type": "stream",
     "text": [
      "COLUMN NAME:  customerID\n",
      "\n",
      "NO OF UNIQUE CLASSES:  7043\n",
      "\n",
      "count           7043\n",
      "unique          7043\n",
      "top       7590-VHVEG\n",
      "freq               1\n",
      "Name: customerID, dtype: object\n",
      "\n",
      "COLUMN NAME:  gender\n",
      "\n",
      "NO OF UNIQUE CLASSES:  2\n",
      "\n",
      "count     7043\n",
      "unique       2\n",
      "top       Male\n",
      "freq      3555\n",
      "Name: gender, dtype: object\n",
      "\n",
      "COLUMN NAME:  Partner\n",
      "\n",
      "NO OF UNIQUE CLASSES:  2\n",
      "\n",
      "count     7043\n",
      "unique       2\n",
      "top         No\n",
      "freq      3641\n",
      "Name: Partner, dtype: object\n",
      "\n",
      "COLUMN NAME:  Dependents\n",
      "\n",
      "NO OF UNIQUE CLASSES:  2\n",
      "\n",
      "count     7043\n",
      "unique       2\n",
      "top         No\n",
      "freq      4933\n",
      "Name: Dependents, dtype: object\n",
      "\n",
      "COLUMN NAME:  PhoneService\n",
      "\n",
      "NO OF UNIQUE CLASSES:  2\n",
      "\n",
      "count     7043\n",
      "unique       2\n",
      "top        Yes\n",
      "freq      6361\n",
      "Name: PhoneService, dtype: object\n",
      "\n",
      "COLUMN NAME:  MultipleLines\n",
      "\n",
      "NO OF UNIQUE CLASSES:  3\n",
      "\n",
      "count     7043\n",
      "unique       3\n",
      "top         No\n",
      "freq      3390\n",
      "Name: MultipleLines, dtype: object\n",
      "\n",
      "COLUMN NAME:  InternetService\n",
      "\n",
      "NO OF UNIQUE CLASSES:  3\n",
      "\n",
      "count            7043\n",
      "unique              3\n",
      "top       Fiber optic\n",
      "freq             3096\n",
      "Name: InternetService, dtype: object\n",
      "\n",
      "COLUMN NAME:  OnlineSecurity\n",
      "\n",
      "NO OF UNIQUE CLASSES:  3\n",
      "\n",
      "count     7043\n",
      "unique       3\n",
      "top         No\n",
      "freq      3498\n",
      "Name: OnlineSecurity, dtype: object\n",
      "\n",
      "COLUMN NAME:  OnlineBackup\n",
      "\n",
      "NO OF UNIQUE CLASSES:  3\n",
      "\n",
      "count     7043\n",
      "unique       3\n",
      "top         No\n",
      "freq      3088\n",
      "Name: OnlineBackup, dtype: object\n",
      "\n",
      "COLUMN NAME:  DeviceProtection\n",
      "\n",
      "NO OF UNIQUE CLASSES:  3\n",
      "\n",
      "count     7043\n",
      "unique       3\n",
      "top         No\n",
      "freq      3095\n",
      "Name: DeviceProtection, dtype: object\n",
      "\n",
      "COLUMN NAME:  TechSupport\n",
      "\n",
      "NO OF UNIQUE CLASSES:  3\n",
      "\n",
      "count     7043\n",
      "unique       3\n",
      "top         No\n",
      "freq      3473\n",
      "Name: TechSupport, dtype: object\n",
      "\n",
      "COLUMN NAME:  StreamingTV\n",
      "\n",
      "NO OF UNIQUE CLASSES:  3\n",
      "\n",
      "count     7043\n",
      "unique       3\n",
      "top         No\n",
      "freq      2810\n",
      "Name: StreamingTV, dtype: object\n",
      "\n",
      "COLUMN NAME:  StreamingMovies\n",
      "\n",
      "NO OF UNIQUE CLASSES:  3\n",
      "\n",
      "count     7043\n",
      "unique       3\n",
      "top         No\n",
      "freq      2785\n",
      "Name: StreamingMovies, dtype: object\n",
      "\n",
      "COLUMN NAME:  Contract\n",
      "\n",
      "NO OF UNIQUE CLASSES:  3\n",
      "\n",
      "count               7043\n",
      "unique                 3\n",
      "top       Month-to-month\n",
      "freq                3875\n",
      "Name: Contract, dtype: object\n",
      "\n",
      "COLUMN NAME:  PaperlessBilling\n",
      "\n",
      "NO OF UNIQUE CLASSES:  2\n",
      "\n",
      "count     7043\n",
      "unique       2\n",
      "top        Yes\n",
      "freq      4171\n",
      "Name: PaperlessBilling, dtype: object\n",
      "\n",
      "COLUMN NAME:  PaymentMethod\n",
      "\n",
      "NO OF UNIQUE CLASSES:  4\n",
      "\n",
      "count                 7043\n",
      "unique                   4\n",
      "top       Electronic check\n",
      "freq                  2365\n",
      "Name: PaymentMethod, dtype: object\n",
      "\n",
      "COLUMN NAME:  TotalCharges\n",
      "\n",
      "NO OF UNIQUE CLASSES:  6531\n",
      "\n",
      "count     7043\n",
      "unique    6531\n",
      "top           \n",
      "freq        11\n",
      "Name: TotalCharges, dtype: object\n",
      "\n",
      "COLUMN NAME:  Churn\n",
      "\n",
      "NO OF UNIQUE CLASSES:  2\n",
      "\n",
      "count     7043\n",
      "unique       2\n",
      "top         No\n",
      "freq      5174\n",
      "Name: Churn, dtype: object\n",
      "\n"
     ]
    }
   ],
   "source": [
    " for i in data.columns:\n",
    "    if data[i].dtype == 'object':\n",
    "        print('COLUMN NAME: ',i)\n",
    "        print()\n",
    "        print('NO OF UNIQUE CLASSES: ',data[i].nunique())\n",
    "        print()\n",
    "        print(data[i].describe())\n",
    "        print()"
   ]
  },
  {
   "cell_type": "code",
   "execution_count": 8,
   "id": "584b4b63",
   "metadata": {},
   "outputs": [],
   "source": [
    "# Dropping customerID \n",
    "\n",
    "data.drop('customerID',axis=1,inplace=True)"
   ]
  },
  {
   "cell_type": "code",
   "execution_count": 9,
   "id": "e90ca6c4",
   "metadata": {},
   "outputs": [
    {
     "data": {
      "text/plain": [
       "gender              0\n",
       "SeniorCitizen       0\n",
       "Partner             0\n",
       "Dependents          0\n",
       "tenure              0\n",
       "PhoneService        0\n",
       "MultipleLines       0\n",
       "InternetService     0\n",
       "OnlineSecurity      0\n",
       "OnlineBackup        0\n",
       "DeviceProtection    0\n",
       "TechSupport         0\n",
       "StreamingTV         0\n",
       "StreamingMovies     0\n",
       "Contract            0\n",
       "PaperlessBilling    0\n",
       "PaymentMethod       0\n",
       "MonthlyCharges      0\n",
       "TotalCharges        0\n",
       "Churn               0\n",
       "dtype: int64"
      ]
     },
     "execution_count": 9,
     "metadata": {},
     "output_type": "execute_result"
    }
   ],
   "source": [
    "data.isnull().sum()"
   ]
  },
  {
   "cell_type": "code",
   "execution_count": 10,
   "id": "2af17920",
   "metadata": {
    "scrolled": false
   },
   "outputs": [
    {
     "data": {
      "text/plain": [
       "array(['29.85', '1889.5', '108.15', ..., '346.45', '306.6', '6844.5'],\n",
       "      dtype=object)"
      ]
     },
     "execution_count": 10,
     "metadata": {},
     "output_type": "execute_result"
    }
   ],
   "source": [
    "data.TotalCharges.unique()"
   ]
  },
  {
   "cell_type": "code",
   "execution_count": 11,
   "id": "81311f21",
   "metadata": {},
   "outputs": [],
   "source": [
    "# TotalCharges column :\n",
    "\n",
    "a = [len(i.split()) for i in data['TotalCharges']]\n",
    "b = [i for i in range(len(a)) if a[i]!=1]"
   ]
  },
  {
   "cell_type": "code",
   "execution_count": 12,
   "id": "25535e7e",
   "metadata": {},
   "outputs": [
    {
     "name": "stdout",
     "output_type": "stream",
     "text": [
      "Number of enteries with empty strings:  11\n"
     ]
    }
   ],
   "source": [
    "print('Number of enteries with empty strings: ',len(b))"
   ]
  },
  {
   "cell_type": "code",
   "execution_count": 13,
   "id": "857e4b53",
   "metadata": {},
   "outputs": [],
   "source": [
    "data = data.drop(b,axis=0).reset_index(drop=True)"
   ]
  },
  {
   "cell_type": "code",
   "execution_count": 14,
   "id": "09012732",
   "metadata": {},
   "outputs": [],
   "source": [
    "data['TotalCharges'] = data['TotalCharges'].astype('float')"
   ]
  },
  {
   "cell_type": "code",
   "execution_count": 15,
   "id": "b642ce5e",
   "metadata": {},
   "outputs": [
    {
     "data": {
      "text/plain": [
       "22"
      ]
     },
     "execution_count": 15,
     "metadata": {},
     "output_type": "execute_result"
    }
   ],
   "source": [
    "# Checking for duplicate rows\n",
    "\n",
    "data.duplicated().sum()"
   ]
  },
  {
   "cell_type": "code",
   "execution_count": 16,
   "id": "0d2e1193",
   "metadata": {},
   "outputs": [],
   "source": [
    "data.drop_duplicates(inplace=True)"
   ]
  },
  {
   "cell_type": "code",
   "execution_count": 17,
   "id": "98e17ce8",
   "metadata": {},
   "outputs": [],
   "source": [
    "# Changing data type of SeniorCitizen column\n",
    "\n",
    "data['SeniorCitizen'] = data['SeniorCitizen'].astype('object')"
   ]
  },
  {
   "cell_type": "code",
   "execution_count": 18,
   "id": "360bf373",
   "metadata": {},
   "outputs": [
    {
     "data": {
      "text/html": [
       "<div>\n",
       "<style scoped>\n",
       "    .dataframe tbody tr th:only-of-type {\n",
       "        vertical-align: middle;\n",
       "    }\n",
       "\n",
       "    .dataframe tbody tr th {\n",
       "        vertical-align: top;\n",
       "    }\n",
       "\n",
       "    .dataframe thead th {\n",
       "        text-align: right;\n",
       "    }\n",
       "</style>\n",
       "<table border=\"1\" class=\"dataframe\">\n",
       "  <thead>\n",
       "    <tr style=\"text-align: right;\">\n",
       "      <th></th>\n",
       "      <th>count</th>\n",
       "      <th>mean</th>\n",
       "      <th>std</th>\n",
       "      <th>min</th>\n",
       "      <th>25%</th>\n",
       "      <th>50%</th>\n",
       "      <th>75%</th>\n",
       "      <th>max</th>\n",
       "    </tr>\n",
       "  </thead>\n",
       "  <tbody>\n",
       "    <tr>\n",
       "      <th>tenure</th>\n",
       "      <td>7010.0</td>\n",
       "      <td>32.520399</td>\n",
       "      <td>24.520441</td>\n",
       "      <td>1.00</td>\n",
       "      <td>9.0000</td>\n",
       "      <td>29.000</td>\n",
       "      <td>56.0000</td>\n",
       "      <td>72.00</td>\n",
       "    </tr>\n",
       "    <tr>\n",
       "      <th>MonthlyCharges</th>\n",
       "      <td>7010.0</td>\n",
       "      <td>64.888666</td>\n",
       "      <td>30.064769</td>\n",
       "      <td>18.25</td>\n",
       "      <td>35.7500</td>\n",
       "      <td>70.400</td>\n",
       "      <td>89.9000</td>\n",
       "      <td>118.75</td>\n",
       "    </tr>\n",
       "    <tr>\n",
       "      <th>TotalCharges</th>\n",
       "      <td>7010.0</td>\n",
       "      <td>2290.353388</td>\n",
       "      <td>2266.820832</td>\n",
       "      <td>18.80</td>\n",
       "      <td>408.3125</td>\n",
       "      <td>1403.875</td>\n",
       "      <td>3807.8375</td>\n",
       "      <td>8684.80</td>\n",
       "    </tr>\n",
       "  </tbody>\n",
       "</table>\n",
       "</div>"
      ],
      "text/plain": [
       "                 count         mean          std    min       25%       50%  \\\n",
       "tenure          7010.0    32.520399    24.520441   1.00    9.0000    29.000   \n",
       "MonthlyCharges  7010.0    64.888666    30.064769  18.25   35.7500    70.400   \n",
       "TotalCharges    7010.0  2290.353388  2266.820832  18.80  408.3125  1403.875   \n",
       "\n",
       "                      75%      max  \n",
       "tenure            56.0000    72.00  \n",
       "MonthlyCharges    89.9000   118.75  \n",
       "TotalCharges    3807.8375  8684.80  "
      ]
     },
     "execution_count": 18,
     "metadata": {},
     "output_type": "execute_result"
    }
   ],
   "source": [
    "data.describe().T"
   ]
  },
  {
   "cell_type": "code",
   "execution_count": 19,
   "id": "f71cce2a",
   "metadata": {},
   "outputs": [],
   "source": [
    "y = data['Churn']\n",
    "x = data.drop('Churn',axis=1)"
   ]
  },
  {
   "cell_type": "code",
   "execution_count": 20,
   "id": "1702545a",
   "metadata": {},
   "outputs": [],
   "source": [
    "numerical = x.select_dtypes(include='number')\n",
    "categorical = x.select_dtypes(include='object')"
   ]
  },
  {
   "cell_type": "code",
   "execution_count": 21,
   "id": "b57569e9",
   "metadata": {},
   "outputs": [],
   "source": [
    "# "
   ]
  },
  {
   "cell_type": "code",
   "execution_count": 22,
   "id": "c6fb15bb",
   "metadata": {},
   "outputs": [
    {
     "data": {
      "image/png": "[encoded data removed]",
      "text/plain": [
       "<Figure size 2000x1000 with 3 Axes>"
      ]
     },
     "metadata": {},
     "output_type": "display_data"
    }
   ],
   "source": [
    "# Numerical columns:\n",
    "\n",
    "r=2\n",
    "c=2\n",
    "iterator = 1\n",
    "for i in numerical.columns:\n",
    "    plt.subplot(r,c,iterator)\n",
    "    sns.distplot(numerical[i])\n",
    "    plt.grid()\n",
    "    iterator+=1\n",
    "plt.tight_layout()    \n",
    "plt.show()\n",
    "\n",
    "# Variables are not normally distributed.\n",
    "# Totalcharges variable is rightly skewed."
   ]
  },
  {
   "cell_type": "code",
   "execution_count": 23,
   "id": "60a11db4",
   "metadata": {},
   "outputs": [
    {
     "data": {
      "image/png": "[encoded data removed]",
      "text/plain": [
       "<Figure size 2000x1000 with 3 Axes>"
      ]
     },
     "metadata": {},
     "output_type": "display_data"
    }
   ],
   "source": [
    "r=2\n",
    "c=2\n",
    "iterator = 1\n",
    "for i in numerical.columns:\n",
    "    plt.subplot(r,c,iterator)\n",
    "    sns.boxplot(numerical[i])\n",
    "    plt.title(i)\n",
    "    iterator+=1\n",
    "plt.tight_layout()    \n",
    "plt.show()\n",
    "\n",
    "# There is no outlier present in dataset."
   ]
  },
  {
   "cell_type": "code",
   "execution_count": 24,
   "id": "ab1eb3f4",
   "metadata": {},
   "outputs": [
    {
     "data": {
      "image/png": "[encoded data removed]",
      "text/plain": [
       "<Figure size 2000x1000 with 16 Axes>"
      ]
     },
     "metadata": {},
     "output_type": "display_data"
    }
   ],
   "source": [
    "# Categorical Columns:\n",
    "\n",
    "r=4\n",
    "c=4\n",
    "iterator = 1\n",
    "for i in categorical.columns:\n",
    "    plt.subplot(r,c,iterator)\n",
    "    sns.countplot(x = categorical[i], data = categorical)\n",
    "    plt.xticks(rotation=90)\n",
    "    iterator+=1   \n",
    "plt.show()"
   ]
  },
  {
   "cell_type": "code",
   "execution_count": 25,
   "id": "6fcbf3ec",
   "metadata": {},
   "outputs": [
    {
     "data": {
      "image/png": "[encoded data removed]",
      "text/plain": [
       "<Figure size 2000x1000 with 1 Axes>"
      ]
     },
     "metadata": {},
     "output_type": "display_data"
    }
   ],
   "source": [
    "# Checking target variable for imbalance\n",
    "\n",
    "sns.countplot(x=y)\n",
    "plt.show()"
   ]
  },
  {
   "cell_type": "code",
   "execution_count": 67,
   "id": "2fd401a1",
   "metadata": {},
   "outputs": [
    {
     "data": {
      "text/plain": [
       "0    5153\n",
       "1    1857\n",
       "Name: Churn, dtype: int64"
      ]
     },
     "execution_count": 67,
     "metadata": {},
     "output_type": "execute_result"
    }
   ],
   "source": [
    "y.value_counts()\n",
    "\n",
    "# We observe that target variable values are moderately imbalanced."
   ]
  },
  {
   "cell_type": "code",
   "execution_count": 27,
   "id": "2d0c25e1",
   "metadata": {},
   "outputs": [],
   "source": [
    "# Statistical test for insignificant variables."
   ]
  },
  {
   "cell_type": "markdown",
   "id": "0e9c4966",
   "metadata": {},
   "source": [
    "## Numerical variables :"
   ]
  },
  {
   "cell_type": "code",
   "execution_count": 28,
   "id": "e2ade064",
   "metadata": {},
   "outputs": [
    {
     "data": {
      "text/html": [
       "<div>\n",
       "<style scoped>\n",
       "    .dataframe tbody tr th:only-of-type {\n",
       "        vertical-align: middle;\n",
       "    }\n",
       "\n",
       "    .dataframe tbody tr th {\n",
       "        vertical-align: top;\n",
       "    }\n",
       "\n",
       "    .dataframe thead th {\n",
       "        text-align: right;\n",
       "    }\n",
       "</style>\n",
       "<table border=\"1\" class=\"dataframe\">\n",
       "  <thead>\n",
       "    <tr style=\"text-align: right;\">\n",
       "      <th></th>\n",
       "      <th>tenure</th>\n",
       "      <th>MonthlyCharges</th>\n",
       "      <th>TotalCharges</th>\n",
       "    </tr>\n",
       "  </thead>\n",
       "  <tbody>\n",
       "    <tr>\n",
       "      <th>0</th>\n",
       "      <td>1</td>\n",
       "      <td>29.85</td>\n",
       "      <td>29.85</td>\n",
       "    </tr>\n",
       "    <tr>\n",
       "      <th>1</th>\n",
       "      <td>34</td>\n",
       "      <td>56.95</td>\n",
       "      <td>1889.50</td>\n",
       "    </tr>\n",
       "  </tbody>\n",
       "</table>\n",
       "</div>"
      ],
      "text/plain": [
       "   tenure  MonthlyCharges  TotalCharges\n",
       "0       1           29.85         29.85\n",
       "1      34           56.95       1889.50"
      ]
     },
     "execution_count": 28,
     "metadata": {},
     "output_type": "execute_result"
    }
   ],
   "source": [
    "numerical.head(2)"
   ]
  },
  {
   "cell_type": "code",
   "execution_count": 29,
   "id": "47e5ccb8",
   "metadata": {},
   "outputs": [],
   "source": [
    "# Performing jarque bera test to check data normality"
   ]
  },
  {
   "cell_type": "markdown",
   "id": "0eef206e",
   "metadata": {},
   "source": [
    "The null and alternative hypothesis for jarque_bera is given as:\n",
    "<p style='text-indent:20em'> <strong> $H_{0}$: The data is normally distributed. </strong></p>\n",
    "<p style='text-indent:20em'> <strong> $H_{1}$: The data is not normally distributed. </strong></p>\n",
    "\n",
    "Assuming the level of confidence as 95%"
   ]
  },
  {
   "cell_type": "code",
   "execution_count": 30,
   "id": "33e9ccea",
   "metadata": {},
   "outputs": [],
   "source": [
    "from scipy.stats import jarque_bera"
   ]
  },
  {
   "cell_type": "code",
   "execution_count": 31,
   "id": "db1e7010",
   "metadata": {},
   "outputs": [],
   "source": [
    "def jarq(yes,no):\n",
    "    tstat_y,pval_y = jarque_bera(yes)\n",
    "    tstat_n,pval_n = jarque_bera(no)\n",
    "    if pval_y>0.05 and pval_n>0.05:\n",
    "        print('Since the pvalue of both churners and non churners is more than 0.05, we dont have enough evidence \\\n",
    "        to reject null hyphothesis')\n",
    "        print('Both are normally distributed')\n",
    "    elif pval_y<0.05 and pval_n<0.05:\n",
    "        print('Since the pvalue of both churners and non churners is less than 0.05, we reject the null hyphothesis')\n",
    "        print('Both are not normally distirbuted')\n",
    "    elif pval_y<0.05 or pval_n<0.05:\n",
    "        print('Either one of churner or non churner is less than 0.05, so we reject the null hyphothesis')\n",
    "        print('Either one of them is not normally distributed')"
   ]
  },
  {
   "cell_type": "code",
   "execution_count": 32,
   "id": "10383c8d",
   "metadata": {},
   "outputs": [
    {
     "name": "stdout",
     "output_type": "stream",
     "text": [
      "Checking normality of two seperate sets of tenure based on target\n",
      "\n",
      "Since the pvalue of both churners and non churners is less than 0.05, we reject the null hyphothesis\n",
      "Both are not normally distirbuted\n",
      "Checking normality of two seperate sets of MonthlyCharges based on target\n",
      "\n",
      "Since the pvalue of both churners and non churners is less than 0.05, we reject the null hyphothesis\n",
      "Both are not normally distirbuted\n",
      "Checking normality of two seperate sets of TotalCharges based on target\n",
      "\n",
      "Since the pvalue of both churners and non churners is less than 0.05, we reject the null hyphothesis\n",
      "Both are not normally distirbuted\n"
     ]
    }
   ],
   "source": [
    "for i in numerical.columns:\n",
    "    print(f'Checking normality of two seperate sets of {i} based on target')\n",
    "    print()\n",
    "    yes = data[data['Churn']=='Yes'][i]\n",
    "    no = data[data['Churn']=='No'][i]\n",
    "    jarq(yes,no)"
   ]
  },
  {
   "cell_type": "code",
   "execution_count": 33,
   "id": "dd984eac",
   "metadata": {},
   "outputs": [],
   "source": [
    "# Inference :\n",
    "\n",
    "# MonthlyCharges and TotalCharges are not normally distributed. So we will perform Kruskal wallis test to check there \n",
    "# Dependency on target\n",
    "\n",
    "# Tenure is normally distributed. So we will perform anova test to check its dependency on target variable."
   ]
  },
  {
   "cell_type": "code",
   "execution_count": 34,
   "id": "bb28e834",
   "metadata": {},
   "outputs": [],
   "source": [
    "# Performing independence two sample ttest on tenure :\n"
   ]
  },
  {
   "cell_type": "markdown",
   "id": "c994e017",
   "metadata": {},
   "source": [
    "The null and alternative hypothesis for `indepenent two sample ttest` is given as:\n",
    "<p style='text-indent:20em'> <strong> $H_{0}$: The data samples are with equal mean (independent). </strong></p>\n",
    "<p style='text-indent:20em'> <strong> $H_{1}$: The data samples do not have equal meand(i.e. variables are dependent). </strong></p>\n",
    "\n",
    "Assuming the level of confidence as 95%"
   ]
  },
  {
   "cell_type": "code",
   "execution_count": 35,
   "id": "8b2ad1d0",
   "metadata": {},
   "outputs": [
    {
     "data": {
      "text/plain": [
       "Ttest_indResult(statistic=-31.618906226127788, pvalue=3.0931274273843194e-205)"
      ]
     },
     "execution_count": 35,
     "metadata": {},
     "output_type": "execute_result"
    }
   ],
   "source": [
    "ten_yes = data[data['Churn']=='Yes']['tenure']\n",
    "ten_no = data[data['Churn']=='No']['tenure']\n",
    "stats.ttest_ind(ten_yes,ten_no)"
   ]
  },
  {
   "cell_type": "code",
   "execution_count": 36,
   "id": "964228b7",
   "metadata": {},
   "outputs": [],
   "source": [
    "# Since pvalue is less than 0.05, we reject null hyphothesis. \n",
    "# We can say that variable is contributing to target variable."
   ]
  },
  {
   "cell_type": "code",
   "execution_count": 37,
   "id": "65bc30c3",
   "metadata": {},
   "outputs": [],
   "source": [
    "# Performing kruskal wallis test on MonthlyCharges and TotalCharges :"
   ]
  },
  {
   "cell_type": "markdown",
   "id": "c5c411e5",
   "metadata": {},
   "source": [
    "The null and alternative hypothesis for `kruskal wallis test` is given as:\n",
    "<p style='text-indent:20em'> <strong> $H_{0}$: The data samples are with equal median (independent). </strong></p>\n",
    "<p style='text-indent:20em'> <strong> $H_{1}$: The data samples do not have equal median(i.e. variables are dependent). </strong></p>\n",
    "\n",
    "Assuming the level of confidence as 95%"
   ]
  },
  {
   "cell_type": "code",
   "execution_count": 38,
   "id": "aa611a7a",
   "metadata": {},
   "outputs": [],
   "source": [
    "# MonthlyCharges :\n",
    "mon_yes = data[data['Churn']=='Yes']['MonthlyCharges']\n",
    "mon_no = data[data['Churn']=='No']['MonthlyCharges']"
   ]
  },
  {
   "cell_type": "code",
   "execution_count": 39,
   "id": "147a6026",
   "metadata": {},
   "outputs": [],
   "source": [
    "from scipy.stats import kruskal"
   ]
  },
  {
   "cell_type": "code",
   "execution_count": 40,
   "id": "a962d5df",
   "metadata": {},
   "outputs": [
    {
     "data": {
      "text/plain": [
       "KruskalResult(statistic=240.6747374484256, pvalue=2.8027443650162474e-54)"
      ]
     },
     "execution_count": 40,
     "metadata": {},
     "output_type": "execute_result"
    }
   ],
   "source": [
    "kruskal(mon_yes,mon_no)"
   ]
  },
  {
   "cell_type": "code",
   "execution_count": 41,
   "id": "c56bd7f7",
   "metadata": {},
   "outputs": [],
   "source": [
    "# Since pvalue is less than 0.05, we reject null hyphothesis. \n",
    "# We can say that variable is contributing to target variable."
   ]
  },
  {
   "cell_type": "code",
   "execution_count": 42,
   "id": "37ba1cdd",
   "metadata": {},
   "outputs": [],
   "source": [
    "# TotalCharges :\n",
    "total_yes = data[data['Churn']=='Yes']['TotalCharges']\n",
    "total_no = data[data['Churn']=='No']['TotalCharges']"
   ]
  },
  {
   "cell_type": "code",
   "execution_count": 43,
   "id": "234430e1",
   "metadata": {},
   "outputs": [
    {
     "data": {
      "text/plain": [
       "KruskalResult(statistic=373.22079793393135, pvalue=3.723356835989822e-83)"
      ]
     },
     "execution_count": 43,
     "metadata": {},
     "output_type": "execute_result"
    }
   ],
   "source": [
    "kruskal(total_yes,total_no)"
   ]
  },
  {
   "cell_type": "code",
   "execution_count": 44,
   "id": "50d9a8de",
   "metadata": {},
   "outputs": [],
   "source": [
    "# Since pvalue is less than 0.05, we reject null hyphothesis. \n",
    "# We can say that variable is contributing to target variable."
   ]
  },
  {
   "cell_type": "markdown",
   "id": "d8fb11e9",
   "metadata": {},
   "source": [
    "## Categorical variable :"
   ]
  },
  {
   "cell_type": "code",
   "execution_count": 45,
   "id": "67beba38",
   "metadata": {
    "scrolled": true
   },
   "outputs": [
    {
     "data": {
      "text/html": [
       "<div>\n",
       "<style scoped>\n",
       "    .dataframe tbody tr th:only-of-type {\n",
       "        vertical-align: middle;\n",
       "    }\n",
       "\n",
       "    .dataframe tbody tr th {\n",
       "        vertical-align: top;\n",
       "    }\n",
       "\n",
       "    .dataframe thead th {\n",
       "        text-align: right;\n",
       "    }\n",
       "</style>\n",
       "<table border=\"1\" class=\"dataframe\">\n",
       "  <thead>\n",
       "    <tr style=\"text-align: right;\">\n",
       "      <th></th>\n",
       "      <th>gender</th>\n",
       "      <th>SeniorCitizen</th>\n",
       "      <th>Partner</th>\n",
       "      <th>Dependents</th>\n",
       "      <th>PhoneService</th>\n",
       "      <th>MultipleLines</th>\n",
       "      <th>InternetService</th>\n",
       "      <th>OnlineSecurity</th>\n",
       "      <th>OnlineBackup</th>\n",
       "      <th>DeviceProtection</th>\n",
       "      <th>TechSupport</th>\n",
       "      <th>StreamingTV</th>\n",
       "      <th>StreamingMovies</th>\n",
       "      <th>Contract</th>\n",
       "      <th>PaperlessBilling</th>\n",
       "      <th>PaymentMethod</th>\n",
       "    </tr>\n",
       "  </thead>\n",
       "  <tbody>\n",
       "    <tr>\n",
       "      <th>0</th>\n",
       "      <td>Female</td>\n",
       "      <td>0</td>\n",
       "      <td>Yes</td>\n",
       "      <td>No</td>\n",
       "      <td>No</td>\n",
       "      <td>No phone service</td>\n",
       "      <td>DSL</td>\n",
       "      <td>No</td>\n",
       "      <td>Yes</td>\n",
       "      <td>No</td>\n",
       "      <td>No</td>\n",
       "      <td>No</td>\n",
       "      <td>No</td>\n",
       "      <td>Month-to-month</td>\n",
       "      <td>Yes</td>\n",
       "      <td>Electronic check</td>\n",
       "    </tr>\n",
       "    <tr>\n",
       "      <th>1</th>\n",
       "      <td>Male</td>\n",
       "      <td>0</td>\n",
       "      <td>No</td>\n",
       "      <td>No</td>\n",
       "      <td>Yes</td>\n",
       "      <td>No</td>\n",
       "      <td>DSL</td>\n",
       "      <td>Yes</td>\n",
       "      <td>No</td>\n",
       "      <td>Yes</td>\n",
       "      <td>No</td>\n",
       "      <td>No</td>\n",
       "      <td>No</td>\n",
       "      <td>One year</td>\n",
       "      <td>No</td>\n",
       "      <td>Mailed check</td>\n",
       "    </tr>\n",
       "  </tbody>\n",
       "</table>\n",
       "</div>"
      ],
      "text/plain": [
       "   gender SeniorCitizen Partner Dependents PhoneService     MultipleLines  \\\n",
       "0  Female             0     Yes         No           No  No phone service   \n",
       "1    Male             0      No         No          Yes                No   \n",
       "\n",
       "  InternetService OnlineSecurity OnlineBackup DeviceProtection TechSupport  \\\n",
       "0             DSL             No          Yes               No          No   \n",
       "1             DSL            Yes           No              Yes          No   \n",
       "\n",
       "  StreamingTV StreamingMovies        Contract PaperlessBilling  \\\n",
       "0          No              No  Month-to-month              Yes   \n",
       "1          No              No        One year               No   \n",
       "\n",
       "      PaymentMethod  \n",
       "0  Electronic check  \n",
       "1      Mailed check  "
      ]
     },
     "execution_count": 45,
     "metadata": {},
     "output_type": "execute_result"
    }
   ],
   "source": [
    "categorical.head(2)"
   ]
  },
  {
   "cell_type": "code",
   "execution_count": 46,
   "id": "35d825bb",
   "metadata": {},
   "outputs": [],
   "source": [
    "# Chi-Squre test for independence :\n",
    "from scipy.stats import chi2_contingency"
   ]
  },
  {
   "cell_type": "markdown",
   "id": "01b390da",
   "metadata": {},
   "source": [
    "This test is used to test whether the categorical variables are independent or not.\n",
    "\n",
    "<p style='text-indent:20em'> <strong> $H_{0}$: The variables are independent</strong></p>\n",
    "<p style='text-indent:20em'> <strong> $H_{1}$: The variables are not independent (i.e. variables are dependent)</strong></p>"
   ]
  },
  {
   "cell_type": "code",
   "execution_count": 47,
   "id": "571d8903",
   "metadata": {},
   "outputs": [
    {
     "name": "stdout",
     "output_type": "stream",
     "text": [
      "For : gender\n",
      "\n",
      "H0: The gender and target are independent\n",
      "H1: The gender and target are not independent\n",
      "Since the pvalue is more than 0.05, we fail to reject null hyphothesis.\n",
      "gender and target are independent\n",
      "For : SeniorCitizen\n",
      "\n",
      "H0: The SeniorCitizen and target are independent\n",
      "H1: The SeniorCitizen and target are not independent\n",
      "Since the pvalue is less than 0.05, we reject the null hyphothesis\n",
      "SeniorCitizen and target are dependent\n",
      "For : Partner\n",
      "\n",
      "H0: The Partner and target are independent\n",
      "H1: The Partner and target are not independent\n",
      "Since the pvalue is less than 0.05, we reject the null hyphothesis\n",
      "Partner and target are dependent\n",
      "For : Dependents\n",
      "\n",
      "H0: The Dependents and target are independent\n",
      "H1: The Dependents and target are not independent\n",
      "Since the pvalue is less than 0.05, we reject the null hyphothesis\n",
      "Dependents and target are dependent\n",
      "For : PhoneService\n",
      "\n",
      "H0: The PhoneService and target are independent\n",
      "H1: The PhoneService and target are not independent\n",
      "Since the pvalue is more than 0.05, we fail to reject null hyphothesis.\n",
      "PhoneService and target are independent\n",
      "For : MultipleLines\n",
      "\n",
      "H0: The MultipleLines and target are independent\n",
      "H1: The MultipleLines and target are not independent\n",
      "Since the pvalue is less than 0.05, we reject the null hyphothesis\n",
      "MultipleLines and target are dependent\n",
      "For : InternetService\n",
      "\n",
      "H0: The InternetService and target are independent\n",
      "H1: The InternetService and target are not independent\n",
      "Since the pvalue is less than 0.05, we reject the null hyphothesis\n",
      "InternetService and target are dependent\n",
      "For : OnlineSecurity\n",
      "\n",
      "H0: The OnlineSecurity and target are independent\n",
      "H1: The OnlineSecurity and target are not independent\n",
      "Since the pvalue is less than 0.05, we reject the null hyphothesis\n",
      "OnlineSecurity and target are dependent\n",
      "For : OnlineBackup\n",
      "\n",
      "H0: The OnlineBackup and target are independent\n",
      "H1: The OnlineBackup and target are not independent\n",
      "Since the pvalue is less than 0.05, we reject the null hyphothesis\n",
      "OnlineBackup and target are dependent\n",
      "For : DeviceProtection\n",
      "\n",
      "H0: The DeviceProtection and target are independent\n",
      "H1: The DeviceProtection and target are not independent\n",
      "Since the pvalue is less than 0.05, we reject the null hyphothesis\n",
      "DeviceProtection and target are dependent\n",
      "For : TechSupport\n",
      "\n",
      "H0: The TechSupport and target are independent\n",
      "H1: The TechSupport and target are not independent\n",
      "Since the pvalue is less than 0.05, we reject the null hyphothesis\n",
      "TechSupport and target are dependent\n",
      "For : StreamingTV\n",
      "\n",
      "H0: The StreamingTV and target are independent\n",
      "H1: The StreamingTV and target are not independent\n",
      "Since the pvalue is less than 0.05, we reject the null hyphothesis\n",
      "StreamingTV and target are dependent\n",
      "For : StreamingMovies\n",
      "\n",
      "H0: The StreamingMovies and target are independent\n",
      "H1: The StreamingMovies and target are not independent\n",
      "Since the pvalue is less than 0.05, we reject the null hyphothesis\n",
      "StreamingMovies and target are dependent\n",
      "For : Contract\n",
      "\n",
      "H0: The Contract and target are independent\n",
      "H1: The Contract and target are not independent\n",
      "Since the pvalue is less than 0.05, we reject the null hyphothesis\n",
      "Contract and target are dependent\n",
      "For : PaperlessBilling\n",
      "\n",
      "H0: The PaperlessBilling and target are independent\n",
      "H1: The PaperlessBilling and target are not independent\n",
      "Since the pvalue is less than 0.05, we reject the null hyphothesis\n",
      "PaperlessBilling and target are dependent\n",
      "For : PaymentMethod\n",
      "\n",
      "H0: The PaymentMethod and target are independent\n",
      "H1: The PaymentMethod and target are not independent\n",
      "Since the pvalue is less than 0.05, we reject the null hyphothesis\n",
      "PaymentMethod and target are dependent\n"
     ]
    }
   ],
   "source": [
    "for i in categorical.columns:\n",
    "    print(f'For : {i}')\n",
    "    print()\n",
    "    print(f'H0: The {i} and target are independent')\n",
    "    print(f'H1: The {i} and target are not independent')\n",
    "    table = pd.crosstab(categorical[i],y)\n",
    "    observed_val = table.values\n",
    "    test_value,p,dof,expected = chi2_contingency(observed=observed_val,correction=False)\n",
    "    \n",
    "    if p>0.05:\n",
    "        print('Since the pvalue is more than 0.05, we fail to reject null hyphothesis.')\n",
    "        print(f'{i} and target are independent')\n",
    "    else:\n",
    "        print('Since the pvalue is less than 0.05, we reject the null hyphothesis')\n",
    "        print(f'{i} and target are dependent')"
   ]
  },
  {
   "cell_type": "code",
   "execution_count": 48,
   "id": "c8d7a5f0",
   "metadata": {},
   "outputs": [
    {
     "name": "stdout",
     "output_type": "stream",
     "text": [
      "Variable that are independent from target variable: \n",
      "\n",
      "gender\n",
      "PhoneService\n"
     ]
    }
   ],
   "source": [
    "# Variable that are independent from target variable\n",
    "print('Variable that are independent from target variable: ')\n",
    "print()\n",
    "for i in categorical.columns:\n",
    "    table = pd.crosstab(categorical[i],y)\n",
    "    observed_val = table.values\n",
    "    test_value,p,dof,expected = chi2_contingency(observed=observed_val,correction=False)\n",
    "\n",
    "    if p>0.05:\n",
    "        print(i)"
   ]
  },
  {
   "cell_type": "code",
   "execution_count": 49,
   "id": "0a6e7bd6",
   "metadata": {},
   "outputs": [
    {
     "name": "stdout",
     "output_type": "stream",
     "text": [
      "Variable that are dependent on target variable: \n",
      "\n",
      "SeniorCitizen\n",
      "Partner\n",
      "Dependents\n",
      "MultipleLines\n",
      "InternetService\n",
      "OnlineSecurity\n",
      "OnlineBackup\n",
      "DeviceProtection\n",
      "TechSupport\n",
      "StreamingTV\n",
      "StreamingMovies\n",
      "Contract\n",
      "PaperlessBilling\n",
      "PaymentMethod\n"
     ]
    }
   ],
   "source": [
    "# Variable that are dependent on target variable\n",
    "print('Variable that are dependent on target variable: ')\n",
    "print()\n",
    "for i in categorical.columns:\n",
    "    table = pd.crosstab(categorical[i],y)\n",
    "    observed_val = table.values\n",
    "    test_value,p,dof,expected = chi2_contingency(observed=observed_val,correction=False)\n",
    "    \n",
    "    if p<0.05:\n",
    "        print(i)"
   ]
  },
  {
   "cell_type": "markdown",
   "id": "36dd011b",
   "metadata": {},
   "source": [
    "## Scaling :"
   ]
  },
  {
   "cell_type": "code",
   "execution_count": 50,
   "id": "06c09080",
   "metadata": {},
   "outputs": [],
   "source": [
    "ss = StandardScaler()\n",
    "num = numerical.columns\n",
    "for i in num:\n",
    "    data[i] = ss.fit_transform(data[num])"
   ]
  },
  {
   "cell_type": "code",
   "execution_count": 51,
   "id": "4fa06d99",
   "metadata": {
    "scrolled": false
   },
   "outputs": [
    {
     "data": {
      "text/html": [
       "<div>\n",
       "<style scoped>\n",
       "    .dataframe tbody tr th:only-of-type {\n",
       "        vertical-align: middle;\n",
       "    }\n",
       "\n",
       "    .dataframe tbody tr th {\n",
       "        vertical-align: top;\n",
       "    }\n",
       "\n",
       "    .dataframe thead th {\n",
       "        text-align: right;\n",
       "    }\n",
       "</style>\n",
       "<table border=\"1\" class=\"dataframe\">\n",
       "  <thead>\n",
       "    <tr style=\"text-align: right;\">\n",
       "      <th></th>\n",
       "      <th>gender</th>\n",
       "      <th>SeniorCitizen</th>\n",
       "      <th>Partner</th>\n",
       "      <th>Dependents</th>\n",
       "      <th>tenure</th>\n",
       "      <th>PhoneService</th>\n",
       "      <th>MultipleLines</th>\n",
       "      <th>InternetService</th>\n",
       "      <th>OnlineSecurity</th>\n",
       "      <th>OnlineBackup</th>\n",
       "      <th>DeviceProtection</th>\n",
       "      <th>TechSupport</th>\n",
       "      <th>StreamingTV</th>\n",
       "      <th>StreamingMovies</th>\n",
       "      <th>Contract</th>\n",
       "      <th>PaperlessBilling</th>\n",
       "      <th>PaymentMethod</th>\n",
       "      <th>MonthlyCharges</th>\n",
       "      <th>TotalCharges</th>\n",
       "      <th>Churn</th>\n",
       "    </tr>\n",
       "  </thead>\n",
       "  <tbody>\n",
       "    <tr>\n",
       "      <th>0</th>\n",
       "      <td>Female</td>\n",
       "      <td>0</td>\n",
       "      <td>Yes</td>\n",
       "      <td>No</td>\n",
       "      <td>-1.285566</td>\n",
       "      <td>No</td>\n",
       "      <td>No phone service</td>\n",
       "      <td>DSL</td>\n",
       "      <td>No</td>\n",
       "      <td>Yes</td>\n",
       "      <td>No</td>\n",
       "      <td>No</td>\n",
       "      <td>No</td>\n",
       "      <td>No</td>\n",
       "      <td>Month-to-month</td>\n",
       "      <td>Yes</td>\n",
       "      <td>Electronic check</td>\n",
       "      <td>-1.165523</td>\n",
       "      <td>-1.285566</td>\n",
       "      <td>No</td>\n",
       "    </tr>\n",
       "    <tr>\n",
       "      <th>1</th>\n",
       "      <td>Male</td>\n",
       "      <td>0</td>\n",
       "      <td>No</td>\n",
       "      <td>No</td>\n",
       "      <td>0.060346</td>\n",
       "      <td>Yes</td>\n",
       "      <td>No</td>\n",
       "      <td>DSL</td>\n",
       "      <td>Yes</td>\n",
       "      <td>No</td>\n",
       "      <td>Yes</td>\n",
       "      <td>No</td>\n",
       "      <td>No</td>\n",
       "      <td>No</td>\n",
       "      <td>One year</td>\n",
       "      <td>No</td>\n",
       "      <td>Mailed check</td>\n",
       "      <td>-0.264071</td>\n",
       "      <td>0.060346</td>\n",
       "      <td>No</td>\n",
       "    </tr>\n",
       "    <tr>\n",
       "      <th>2</th>\n",
       "      <td>Male</td>\n",
       "      <td>0</td>\n",
       "      <td>No</td>\n",
       "      <td>No</td>\n",
       "      <td>-1.244781</td>\n",
       "      <td>Yes</td>\n",
       "      <td>No</td>\n",
       "      <td>DSL</td>\n",
       "      <td>Yes</td>\n",
       "      <td>Yes</td>\n",
       "      <td>No</td>\n",
       "      <td>No</td>\n",
       "      <td>No</td>\n",
       "      <td>No</td>\n",
       "      <td>Month-to-month</td>\n",
       "      <td>Yes</td>\n",
       "      <td>Mailed check</td>\n",
       "      <td>-0.367189</td>\n",
       "      <td>-1.244781</td>\n",
       "      <td>Yes</td>\n",
       "    </tr>\n",
       "    <tr>\n",
       "      <th>3</th>\n",
       "      <td>Male</td>\n",
       "      <td>0</td>\n",
       "      <td>No</td>\n",
       "      <td>No</td>\n",
       "      <td>0.508983</td>\n",
       "      <td>No</td>\n",
       "      <td>No phone service</td>\n",
       "      <td>DSL</td>\n",
       "      <td>Yes</td>\n",
       "      <td>No</td>\n",
       "      <td>Yes</td>\n",
       "      <td>Yes</td>\n",
       "      <td>No</td>\n",
       "      <td>No</td>\n",
       "      <td>One year</td>\n",
       "      <td>No</td>\n",
       "      <td>Bank transfer (automatic)</td>\n",
       "      <td>-0.751387</td>\n",
       "      <td>0.508983</td>\n",
       "      <td>No</td>\n",
       "    </tr>\n",
       "    <tr>\n",
       "      <th>4</th>\n",
       "      <td>Female</td>\n",
       "      <td>0</td>\n",
       "      <td>No</td>\n",
       "      <td>No</td>\n",
       "      <td>-1.244781</td>\n",
       "      <td>Yes</td>\n",
       "      <td>No</td>\n",
       "      <td>Fiber optic</td>\n",
       "      <td>No</td>\n",
       "      <td>No</td>\n",
       "      <td>No</td>\n",
       "      <td>No</td>\n",
       "      <td>No</td>\n",
       "      <td>No</td>\n",
       "      <td>Month-to-month</td>\n",
       "      <td>Yes</td>\n",
       "      <td>Electronic check</td>\n",
       "      <td>0.193308</td>\n",
       "      <td>-1.244781</td>\n",
       "      <td>Yes</td>\n",
       "    </tr>\n",
       "  </tbody>\n",
       "</table>\n",
       "</div>"
      ],
      "text/plain": [
       "   gender SeniorCitizen Partner Dependents    tenure PhoneService  \\\n",
       "0  Female             0     Yes         No -1.285566           No   \n",
       "1    Male             0      No         No  0.060346          Yes   \n",
       "2    Male             0      No         No -1.244781          Yes   \n",
       "3    Male             0      No         No  0.508983           No   \n",
       "4  Female             0      No         No -1.244781          Yes   \n",
       "\n",
       "      MultipleLines InternetService OnlineSecurity OnlineBackup  \\\n",
       "0  No phone service             DSL             No          Yes   \n",
       "1                No             DSL            Yes           No   \n",
       "2                No             DSL            Yes          Yes   \n",
       "3  No phone service             DSL            Yes           No   \n",
       "4                No     Fiber optic             No           No   \n",
       "\n",
       "  DeviceProtection TechSupport StreamingTV StreamingMovies        Contract  \\\n",
       "0               No          No          No              No  Month-to-month   \n",
       "1              Yes          No          No              No        One year   \n",
       "2               No          No          No              No  Month-to-month   \n",
       "3              Yes         Yes          No              No        One year   \n",
       "4               No          No          No              No  Month-to-month   \n",
       "\n",
       "  PaperlessBilling              PaymentMethod  MonthlyCharges  TotalCharges  \\\n",
       "0              Yes           Electronic check       -1.165523     -1.285566   \n",
       "1               No               Mailed check       -0.264071      0.060346   \n",
       "2              Yes               Mailed check       -0.367189     -1.244781   \n",
       "3               No  Bank transfer (automatic)       -0.751387      0.508983   \n",
       "4              Yes           Electronic check        0.193308     -1.244781   \n",
       "\n",
       "  Churn  \n",
       "0    No  \n",
       "1    No  \n",
       "2   Yes  \n",
       "3    No  \n",
       "4   Yes  "
      ]
     },
     "execution_count": 51,
     "metadata": {},
     "output_type": "execute_result"
    }
   ],
   "source": [
    "data.head()"
   ]
  },
  {
   "cell_type": "markdown",
   "id": "480d3869",
   "metadata": {},
   "source": [
    "## Checking multicollinearity between numerical columns"
   ]
  },
  {
   "cell_type": "code",
   "execution_count": 52,
   "id": "a0fe0c03",
   "metadata": {},
   "outputs": [],
   "source": [
    "num_multi = data.select_dtypes(include=np.number)"
   ]
  },
  {
   "cell_type": "code",
   "execution_count": 53,
   "id": "32f6d91b",
   "metadata": {},
   "outputs": [
    {
     "data": {
      "text/html": [
       "<div>\n",
       "<style scoped>\n",
       "    .dataframe tbody tr th:only-of-type {\n",
       "        vertical-align: middle;\n",
       "    }\n",
       "\n",
       "    .dataframe tbody tr th {\n",
       "        vertical-align: top;\n",
       "    }\n",
       "\n",
       "    .dataframe thead th {\n",
       "        text-align: right;\n",
       "    }\n",
       "</style>\n",
       "<table border=\"1\" class=\"dataframe\">\n",
       "  <thead>\n",
       "    <tr style=\"text-align: right;\">\n",
       "      <th></th>\n",
       "      <th>Feature</th>\n",
       "      <th>vif factor</th>\n",
       "    </tr>\n",
       "  </thead>\n",
       "  <tbody>\n",
       "    <tr>\n",
       "      <th>0</th>\n",
       "      <td>tenure</td>\n",
       "      <td>inf</td>\n",
       "    </tr>\n",
       "    <tr>\n",
       "      <th>1</th>\n",
       "      <td>TotalCharges</td>\n",
       "      <td>inf</td>\n",
       "    </tr>\n",
       "    <tr>\n",
       "      <th>2</th>\n",
       "      <td>MonthlyCharges</td>\n",
       "      <td>1.063412</td>\n",
       "    </tr>\n",
       "  </tbody>\n",
       "</table>\n",
       "</div>"
      ],
      "text/plain": [
       "          Feature  vif factor\n",
       "0          tenure         inf\n",
       "1    TotalCharges         inf\n",
       "2  MonthlyCharges    1.063412"
      ]
     },
     "execution_count": 53,
     "metadata": {},
     "output_type": "execute_result"
    }
   ],
   "source": [
    "vif = pd.DataFrame()\n",
    "\n",
    "vif['Feature'] = num_multi.columns\n",
    "vif['vif factor'] = [VIF(num_multi.values,i) for i in range(num_multi.shape[1])]\n",
    "\n",
    "vif.sort_values('vif factor',ascending=False).reset_index(drop=True)"
   ]
  },
  {
   "cell_type": "code",
   "execution_count": 54,
   "id": "34b887be",
   "metadata": {},
   "outputs": [],
   "source": [
    "num_multi.drop('tenure',axis=1,inplace=True)"
   ]
  },
  {
   "cell_type": "code",
   "execution_count": 55,
   "id": "70151793",
   "metadata": {},
   "outputs": [
    {
     "data": {
      "text/html": [
       "<div>\n",
       "<style scoped>\n",
       "    .dataframe tbody tr th:only-of-type {\n",
       "        vertical-align: middle;\n",
       "    }\n",
       "\n",
       "    .dataframe tbody tr th {\n",
       "        vertical-align: top;\n",
       "    }\n",
       "\n",
       "    .dataframe thead th {\n",
       "        text-align: right;\n",
       "    }\n",
       "</style>\n",
       "<table border=\"1\" class=\"dataframe\">\n",
       "  <thead>\n",
       "    <tr style=\"text-align: right;\">\n",
       "      <th></th>\n",
       "      <th>Feature</th>\n",
       "      <th>vif factor</th>\n",
       "    </tr>\n",
       "  </thead>\n",
       "  <tbody>\n",
       "    <tr>\n",
       "      <th>0</th>\n",
       "      <td>TotalCharges</td>\n",
       "      <td>1.063412</td>\n",
       "    </tr>\n",
       "    <tr>\n",
       "      <th>1</th>\n",
       "      <td>MonthlyCharges</td>\n",
       "      <td>1.063412</td>\n",
       "    </tr>\n",
       "  </tbody>\n",
       "</table>\n",
       "</div>"
      ],
      "text/plain": [
       "          Feature  vif factor\n",
       "0    TotalCharges    1.063412\n",
       "1  MonthlyCharges    1.063412"
      ]
     },
     "execution_count": 55,
     "metadata": {},
     "output_type": "execute_result"
    }
   ],
   "source": [
    "vif = pd.DataFrame()\n",
    "\n",
    "vif['Feature'] = num_multi.columns\n",
    "vif['vif factor'] = [VIF(num_multi.values,i) for i in range(num_multi.shape[1])]\n",
    "\n",
    "vif.sort_values('vif factor',ascending=False).reset_index(drop=True)"
   ]
  },
  {
   "cell_type": "code",
   "execution_count": 56,
   "id": "a17c7a68",
   "metadata": {},
   "outputs": [],
   "source": [
    "# Dropping tenure variable as it has high multicollinearity\n",
    "data.drop('tenure',axis=1,inplace=True)"
   ]
  },
  {
   "cell_type": "markdown",
   "id": "720e93c4",
   "metadata": {},
   "source": [
    "## Encoding :"
   ]
  },
  {
   "cell_type": "code",
   "execution_count": 57,
   "id": "7e9e03bd",
   "metadata": {},
   "outputs": [
    {
     "name": "stdout",
     "output_type": "stream",
     "text": [
      "Number of unique values in gender: 2\n",
      "Number of unique values in SeniorCitizen: 2\n",
      "Number of unique values in Partner: 2\n",
      "Number of unique values in Dependents: 2\n",
      "Number of unique values in PhoneService: 2\n",
      "Number of unique values in MultipleLines: 3\n",
      "Number of unique values in InternetService: 3\n",
      "Number of unique values in OnlineSecurity: 3\n",
      "Number of unique values in OnlineBackup: 3\n",
      "Number of unique values in DeviceProtection: 3\n",
      "Number of unique values in TechSupport: 3\n",
      "Number of unique values in StreamingTV: 3\n",
      "Number of unique values in StreamingMovies: 3\n",
      "Number of unique values in Contract: 3\n",
      "Number of unique values in PaperlessBilling: 2\n",
      "Number of unique values in PaymentMethod: 4\n"
     ]
    }
   ],
   "source": [
    "for i in categorical.columns:\n",
    "    print(f'Number of unique values in {i}:',categorical[i].nunique())"
   ]
  },
  {
   "cell_type": "code",
   "execution_count": 58,
   "id": "7f9026fc",
   "metadata": {},
   "outputs": [],
   "source": [
    "n_data = data.drop('Churn',axis=1)"
   ]
  },
  {
   "cell_type": "code",
   "execution_count": 59,
   "id": "0722eac4",
   "metadata": {},
   "outputs": [],
   "source": [
    "from sklearn.preprocessing import LabelEncoder"
   ]
  },
  {
   "cell_type": "code",
   "execution_count": 60,
   "id": "8fa1a0c6",
   "metadata": {},
   "outputs": [],
   "source": [
    "le = LabelEncoder()\n",
    "cat = categorical.columns\n",
    "for i in cat:\n",
    "    n_data[i] = le.fit_transform(n_data[i])"
   ]
  },
  {
   "cell_type": "code",
   "execution_count": 61,
   "id": "827b60f5",
   "metadata": {},
   "outputs": [
    {
     "data": {
      "text/html": [
       "<div>\n",
       "<style scoped>\n",
       "    .dataframe tbody tr th:only-of-type {\n",
       "        vertical-align: middle;\n",
       "    }\n",
       "\n",
       "    .dataframe tbody tr th {\n",
       "        vertical-align: top;\n",
       "    }\n",
       "\n",
       "    .dataframe thead th {\n",
       "        text-align: right;\n",
       "    }\n",
       "</style>\n",
       "<table border=\"1\" class=\"dataframe\">\n",
       "  <thead>\n",
       "    <tr style=\"text-align: right;\">\n",
       "      <th></th>\n",
       "      <th>gender</th>\n",
       "      <th>SeniorCitizen</th>\n",
       "      <th>Partner</th>\n",
       "      <th>Dependents</th>\n",
       "      <th>PhoneService</th>\n",
       "      <th>MultipleLines</th>\n",
       "      <th>InternetService</th>\n",
       "      <th>OnlineSecurity</th>\n",
       "      <th>OnlineBackup</th>\n",
       "      <th>DeviceProtection</th>\n",
       "      <th>TechSupport</th>\n",
       "      <th>StreamingTV</th>\n",
       "      <th>StreamingMovies</th>\n",
       "      <th>Contract</th>\n",
       "      <th>PaperlessBilling</th>\n",
       "      <th>PaymentMethod</th>\n",
       "      <th>MonthlyCharges</th>\n",
       "      <th>TotalCharges</th>\n",
       "    </tr>\n",
       "  </thead>\n",
       "  <tbody>\n",
       "    <tr>\n",
       "      <th>0</th>\n",
       "      <td>0</td>\n",
       "      <td>0</td>\n",
       "      <td>1</td>\n",
       "      <td>0</td>\n",
       "      <td>0</td>\n",
       "      <td>1</td>\n",
       "      <td>0</td>\n",
       "      <td>0</td>\n",
       "      <td>2</td>\n",
       "      <td>0</td>\n",
       "      <td>0</td>\n",
       "      <td>0</td>\n",
       "      <td>0</td>\n",
       "      <td>0</td>\n",
       "      <td>1</td>\n",
       "      <td>2</td>\n",
       "      <td>-1.165523</td>\n",
       "      <td>-1.285566</td>\n",
       "    </tr>\n",
       "    <tr>\n",
       "      <th>1</th>\n",
       "      <td>1</td>\n",
       "      <td>0</td>\n",
       "      <td>0</td>\n",
       "      <td>0</td>\n",
       "      <td>1</td>\n",
       "      <td>0</td>\n",
       "      <td>0</td>\n",
       "      <td>2</td>\n",
       "      <td>0</td>\n",
       "      <td>2</td>\n",
       "      <td>0</td>\n",
       "      <td>0</td>\n",
       "      <td>0</td>\n",
       "      <td>1</td>\n",
       "      <td>0</td>\n",
       "      <td>3</td>\n",
       "      <td>-0.264071</td>\n",
       "      <td>0.060346</td>\n",
       "    </tr>\n",
       "    <tr>\n",
       "      <th>2</th>\n",
       "      <td>1</td>\n",
       "      <td>0</td>\n",
       "      <td>0</td>\n",
       "      <td>0</td>\n",
       "      <td>1</td>\n",
       "      <td>0</td>\n",
       "      <td>0</td>\n",
       "      <td>2</td>\n",
       "      <td>2</td>\n",
       "      <td>0</td>\n",
       "      <td>0</td>\n",
       "      <td>0</td>\n",
       "      <td>0</td>\n",
       "      <td>0</td>\n",
       "      <td>1</td>\n",
       "      <td>3</td>\n",
       "      <td>-0.367189</td>\n",
       "      <td>-1.244781</td>\n",
       "    </tr>\n",
       "    <tr>\n",
       "      <th>3</th>\n",
       "      <td>1</td>\n",
       "      <td>0</td>\n",
       "      <td>0</td>\n",
       "      <td>0</td>\n",
       "      <td>0</td>\n",
       "      <td>1</td>\n",
       "      <td>0</td>\n",
       "      <td>2</td>\n",
       "      <td>0</td>\n",
       "      <td>2</td>\n",
       "      <td>2</td>\n",
       "      <td>0</td>\n",
       "      <td>0</td>\n",
       "      <td>1</td>\n",
       "      <td>0</td>\n",
       "      <td>0</td>\n",
       "      <td>-0.751387</td>\n",
       "      <td>0.508983</td>\n",
       "    </tr>\n",
       "    <tr>\n",
       "      <th>4</th>\n",
       "      <td>0</td>\n",
       "      <td>0</td>\n",
       "      <td>0</td>\n",
       "      <td>0</td>\n",
       "      <td>1</td>\n",
       "      <td>0</td>\n",
       "      <td>1</td>\n",
       "      <td>0</td>\n",
       "      <td>0</td>\n",
       "      <td>0</td>\n",
       "      <td>0</td>\n",
       "      <td>0</td>\n",
       "      <td>0</td>\n",
       "      <td>0</td>\n",
       "      <td>1</td>\n",
       "      <td>2</td>\n",
       "      <td>0.193308</td>\n",
       "      <td>-1.244781</td>\n",
       "    </tr>\n",
       "  </tbody>\n",
       "</table>\n",
       "</div>"
      ],
      "text/plain": [
       "   gender  SeniorCitizen  Partner  Dependents  PhoneService  MultipleLines  \\\n",
       "0       0              0        1           0             0              1   \n",
       "1       1              0        0           0             1              0   \n",
       "2       1              0        0           0             1              0   \n",
       "3       1              0        0           0             0              1   \n",
       "4       0              0        0           0             1              0   \n",
       "\n",
       "   InternetService  OnlineSecurity  OnlineBackup  DeviceProtection  \\\n",
       "0                0               0             2                 0   \n",
       "1                0               2             0                 2   \n",
       "2                0               2             2                 0   \n",
       "3                0               2             0                 2   \n",
       "4                1               0             0                 0   \n",
       "\n",
       "   TechSupport  StreamingTV  StreamingMovies  Contract  PaperlessBilling  \\\n",
       "0            0            0                0         0                 1   \n",
       "1            0            0                0         1                 0   \n",
       "2            0            0                0         0                 1   \n",
       "3            2            0                0         1                 0   \n",
       "4            0            0                0         0                 1   \n",
       "\n",
       "   PaymentMethod  MonthlyCharges  TotalCharges  \n",
       "0              2       -1.165523     -1.285566  \n",
       "1              3       -0.264071      0.060346  \n",
       "2              3       -0.367189     -1.244781  \n",
       "3              0       -0.751387      0.508983  \n",
       "4              2        0.193308     -1.244781  "
      ]
     },
     "execution_count": 61,
     "metadata": {},
     "output_type": "execute_result"
    }
   ],
   "source": [
    "n_data.head()"
   ]
  },
  {
   "cell_type": "code",
   "execution_count": 62,
   "id": "4b21d07f",
   "metadata": {},
   "outputs": [],
   "source": [
    "y = y.replace({'Yes':1,'No':0})"
   ]
  },
  {
   "cell_type": "code",
   "execution_count": 63,
   "id": "9d028a8f",
   "metadata": {},
   "outputs": [],
   "source": [
    "y_df = y.to_frame()"
   ]
  },
  {
   "cell_type": "code",
   "execution_count": 64,
   "id": "296ee9e7",
   "metadata": {},
   "outputs": [],
   "source": [
    "df_final = pd.concat([n_data,y_df],axis=1)"
   ]
  },
  {
   "cell_type": "code",
   "execution_count": 65,
   "id": "b5e2c19a",
   "metadata": {},
   "outputs": [
    {
     "data": {
      "text/html": [
       "<div>\n",
       "<style scoped>\n",
       "    .dataframe tbody tr th:only-of-type {\n",
       "        vertical-align: middle;\n",
       "    }\n",
       "\n",
       "    .dataframe tbody tr th {\n",
       "        vertical-align: top;\n",
       "    }\n",
       "\n",
       "    .dataframe thead th {\n",
       "        text-align: right;\n",
       "    }\n",
       "</style>\n",
       "<table border=\"1\" class=\"dataframe\">\n",
       "  <thead>\n",
       "    <tr style=\"text-align: right;\">\n",
       "      <th></th>\n",
       "      <th>gender</th>\n",
       "      <th>SeniorCitizen</th>\n",
       "      <th>Partner</th>\n",
       "      <th>Dependents</th>\n",
       "      <th>PhoneService</th>\n",
       "      <th>MultipleLines</th>\n",
       "      <th>InternetService</th>\n",
       "      <th>OnlineSecurity</th>\n",
       "      <th>OnlineBackup</th>\n",
       "      <th>DeviceProtection</th>\n",
       "      <th>TechSupport</th>\n",
       "      <th>StreamingTV</th>\n",
       "      <th>StreamingMovies</th>\n",
       "      <th>Contract</th>\n",
       "      <th>PaperlessBilling</th>\n",
       "      <th>PaymentMethod</th>\n",
       "      <th>MonthlyCharges</th>\n",
       "      <th>TotalCharges</th>\n",
       "      <th>Churn</th>\n",
       "    </tr>\n",
       "  </thead>\n",
       "  <tbody>\n",
       "    <tr>\n",
       "      <th>0</th>\n",
       "      <td>0</td>\n",
       "      <td>0</td>\n",
       "      <td>1</td>\n",
       "      <td>0</td>\n",
       "      <td>0</td>\n",
       "      <td>1</td>\n",
       "      <td>0</td>\n",
       "      <td>0</td>\n",
       "      <td>2</td>\n",
       "      <td>0</td>\n",
       "      <td>0</td>\n",
       "      <td>0</td>\n",
       "      <td>0</td>\n",
       "      <td>0</td>\n",
       "      <td>1</td>\n",
       "      <td>2</td>\n",
       "      <td>-1.165523</td>\n",
       "      <td>-1.285566</td>\n",
       "      <td>0</td>\n",
       "    </tr>\n",
       "    <tr>\n",
       "      <th>1</th>\n",
       "      <td>1</td>\n",
       "      <td>0</td>\n",
       "      <td>0</td>\n",
       "      <td>0</td>\n",
       "      <td>1</td>\n",
       "      <td>0</td>\n",
       "      <td>0</td>\n",
       "      <td>2</td>\n",
       "      <td>0</td>\n",
       "      <td>2</td>\n",
       "      <td>0</td>\n",
       "      <td>0</td>\n",
       "      <td>0</td>\n",
       "      <td>1</td>\n",
       "      <td>0</td>\n",
       "      <td>3</td>\n",
       "      <td>-0.264071</td>\n",
       "      <td>0.060346</td>\n",
       "      <td>0</td>\n",
       "    </tr>\n",
       "    <tr>\n",
       "      <th>2</th>\n",
       "      <td>1</td>\n",
       "      <td>0</td>\n",
       "      <td>0</td>\n",
       "      <td>0</td>\n",
       "      <td>1</td>\n",
       "      <td>0</td>\n",
       "      <td>0</td>\n",
       "      <td>2</td>\n",
       "      <td>2</td>\n",
       "      <td>0</td>\n",
       "      <td>0</td>\n",
       "      <td>0</td>\n",
       "      <td>0</td>\n",
       "      <td>0</td>\n",
       "      <td>1</td>\n",
       "      <td>3</td>\n",
       "      <td>-0.367189</td>\n",
       "      <td>-1.244781</td>\n",
       "      <td>1</td>\n",
       "    </tr>\n",
       "    <tr>\n",
       "      <th>3</th>\n",
       "      <td>1</td>\n",
       "      <td>0</td>\n",
       "      <td>0</td>\n",
       "      <td>0</td>\n",
       "      <td>0</td>\n",
       "      <td>1</td>\n",
       "      <td>0</td>\n",
       "      <td>2</td>\n",
       "      <td>0</td>\n",
       "      <td>2</td>\n",
       "      <td>2</td>\n",
       "      <td>0</td>\n",
       "      <td>0</td>\n",
       "      <td>1</td>\n",
       "      <td>0</td>\n",
       "      <td>0</td>\n",
       "      <td>-0.751387</td>\n",
       "      <td>0.508983</td>\n",
       "      <td>0</td>\n",
       "    </tr>\n",
       "    <tr>\n",
       "      <th>4</th>\n",
       "      <td>0</td>\n",
       "      <td>0</td>\n",
       "      <td>0</td>\n",
       "      <td>0</td>\n",
       "      <td>1</td>\n",
       "      <td>0</td>\n",
       "      <td>1</td>\n",
       "      <td>0</td>\n",
       "      <td>0</td>\n",
       "      <td>0</td>\n",
       "      <td>0</td>\n",
       "      <td>0</td>\n",
       "      <td>0</td>\n",
       "      <td>0</td>\n",
       "      <td>1</td>\n",
       "      <td>2</td>\n",
       "      <td>0.193308</td>\n",
       "      <td>-1.244781</td>\n",
       "      <td>1</td>\n",
       "    </tr>\n",
       "  </tbody>\n",
       "</table>\n",
       "</div>"
      ],
      "text/plain": [
       "   gender  SeniorCitizen  Partner  Dependents  PhoneService  MultipleLines  \\\n",
       "0       0              0        1           0             0              1   \n",
       "1       1              0        0           0             1              0   \n",
       "2       1              0        0           0             1              0   \n",
       "3       1              0        0           0             0              1   \n",
       "4       0              0        0           0             1              0   \n",
       "\n",
       "   InternetService  OnlineSecurity  OnlineBackup  DeviceProtection  \\\n",
       "0                0               0             2                 0   \n",
       "1                0               2             0                 2   \n",
       "2                0               2             2                 0   \n",
       "3                0               2             0                 2   \n",
       "4                1               0             0                 0   \n",
       "\n",
       "   TechSupport  StreamingTV  StreamingMovies  Contract  PaperlessBilling  \\\n",
       "0            0            0                0         0                 1   \n",
       "1            0            0                0         1                 0   \n",
       "2            0            0                0         0                 1   \n",
       "3            2            0                0         1                 0   \n",
       "4            0            0                0         0                 1   \n",
       "\n",
       "   PaymentMethod  MonthlyCharges  TotalCharges  Churn  \n",
       "0              2       -1.165523     -1.285566      0  \n",
       "1              3       -0.264071      0.060346      0  \n",
       "2              3       -0.367189     -1.244781      1  \n",
       "3              0       -0.751387      0.508983      0  \n",
       "4              2        0.193308     -1.244781      1  "
      ]
     },
     "execution_count": 65,
     "metadata": {},
     "output_type": "execute_result"
    }
   ],
   "source": [
    "df_final.head()"
   ]
  },
  {
   "cell_type": "code",
   "execution_count": 66,
   "id": "2fb94536",
   "metadata": {},
   "outputs": [],
   "source": [
    "df_final.to_csv('data1.csv',sep=',')"
   ]
  },
  {
   "cell_type": "code",
   "execution_count": null,
   "id": "98da4510",
   "metadata": {},
   "outputs": [],
   "source": []
  }
 ],
 "metadata": {
  "kernelspec": {
   "display_name": "Python 3 (ipykernel)",
   "language": "python",
   "name": "python3"
  },
  "language_info": {
   "codemirror_mode": {
    "name": "ipython",
    "version": 3
   },
   "file_extension": ".py",
   "mimetype": "text/x-python",
   "name": "python",
   "nbconvert_exporter": "python",
   "pygments_lexer": "ipython3",
   "version": "3.9.12"
  }
 },
 "nbformat": 4,
 "nbformat_minor": 5
}
