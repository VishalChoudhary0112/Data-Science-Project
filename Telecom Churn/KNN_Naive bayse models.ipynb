{
 "cells": [
  {
   "cell_type": "code",
   "execution_count": 1,
   "id": "56506156",
   "metadata": {},
   "outputs": [],
   "source": [
    "# import 'Pandas' \n",
    "import pandas as pd \n",
    "\n",
    "# import 'Numpy' \n",
    "import numpy as np\n",
    "\n",
    "# import subpackage of Matplotlib\n",
    "import matplotlib.pyplot as plt\n",
    "from matplotlib.colors import ListedColormap\n",
    "\n",
    "# import 'Seaborn' \n",
    "import seaborn as sns\n",
    "\n",
    "# to suppress warnings \n",
    "from warnings import filterwarnings\n",
    "filterwarnings('ignore')\n",
    "\n",
    "# display all columns of the dataframe\n",
    "pd.options.display.max_columns = None\n",
    "\n",
    "# display all rows of the dataframe\n",
    "pd.options.display.max_rows = 50\n",
    " \n",
    "# to display the float values upto 6 decimal places     \n",
    "pd.options.display.float_format = '{:.6f}'.format\n",
    "\n",
    "import statsmodels\n",
    "import statsmodels.api as sm\n",
    "\n",
    "# import train-test split \n",
    "from sklearn.model_selection import train_test_split\n",
    "\n",
    "# import StandardScaler to perform scaling\n",
    "from sklearn.preprocessing import StandardScaler \n",
    "\n",
    "# import various functions from sklearn\n",
    "from sklearn.metrics import classification_report\n",
    "from sklearn.metrics import confusion_matrix\n",
    "from sklearn.metrics import roc_curve\n",
    "from sklearn.metrics import roc_auc_score\n",
    "from sklearn.ensemble import AdaBoostClassifier\n",
    "from sklearn.ensemble import GradientBoostingClassifier\n",
    "from sklearn.model_selection import GridSearchCV\n",
    "from sklearn.ensemble import StackingClassifier\n",
    "from sklearn.ensemble import RandomForestClassifier\n",
    "from sklearn.neighbors import KNeighborsClassifier\n",
    "from sklearn.naive_bayes import GaussianNB\n",
    "\n",
    "# import the XGBoost function for classification\n",
    "from xgboost import XGBClassifier\n",
    "\n",
    "from sklearn.discriminant_analysis import LinearDiscriminantAnalysis as LDA"
   ]
  },
  {
   "cell_type": "code",
   "execution_count": 2,
   "id": "6fde8435",
   "metadata": {},
   "outputs": [
    {
     "data": {
      "text/html": [
       "<div>\n",
       "<style scoped>\n",
       "    .dataframe tbody tr th:only-of-type {\n",
       "        vertical-align: middle;\n",
       "    }\n",
       "\n",
       "    .dataframe tbody tr th {\n",
       "        vertical-align: top;\n",
       "    }\n",
       "\n",
       "    .dataframe thead th {\n",
       "        text-align: right;\n",
       "    }\n",
       "</style>\n",
       "<table border=\"1\" class=\"dataframe\">\n",
       "  <thead>\n",
       "    <tr style=\"text-align: right;\">\n",
       "      <th></th>\n",
       "      <th>Unnamed: 0</th>\n",
       "      <th>MonthlyRevenue</th>\n",
       "      <th>MonthlyMinutes</th>\n",
       "      <th>TotalRecurringCharge</th>\n",
       "      <th>DirectorAssistedCalls</th>\n",
       "      <th>OverageMinutes</th>\n",
       "      <th>RoamingCalls</th>\n",
       "      <th>PercChangeMinutes</th>\n",
       "      <th>PercChangeRevenues</th>\n",
       "      <th>DroppedCalls</th>\n",
       "      <th>BlockedCalls</th>\n",
       "      <th>UnansweredCalls</th>\n",
       "      <th>CustomerCareCalls</th>\n",
       "      <th>ThreewayCalls</th>\n",
       "      <th>ReceivedCalls</th>\n",
       "      <th>OutboundCalls</th>\n",
       "      <th>InboundCalls</th>\n",
       "      <th>PeakCallsInOut</th>\n",
       "      <th>OffPeakCallsInOut</th>\n",
       "      <th>CallForwardingCalls</th>\n",
       "      <th>CallWaitingCalls</th>\n",
       "      <th>MonthsInService</th>\n",
       "      <th>UniqueSubs</th>\n",
       "      <th>ActiveSubs</th>\n",
       "      <th>Handsets</th>\n",
       "      <th>HandsetModels</th>\n",
       "      <th>CurrentEquipmentDays</th>\n",
       "      <th>RetentionCalls</th>\n",
       "      <th>RetentionOffersAccepted</th>\n",
       "      <th>ReferralsMadeBySubscriber</th>\n",
       "      <th>IncomeGroup</th>\n",
       "      <th>AdjustmentsToCreditRating</th>\n",
       "      <th>Age</th>\n",
       "      <th>ChildrenInHH_Yes</th>\n",
       "      <th>HandsetRefurbished_Yes</th>\n",
       "      <th>HandsetWebCapable_Yes</th>\n",
       "      <th>TruckOwner_Yes</th>\n",
       "      <th>RVOwner_Yes</th>\n",
       "      <th>Homeownership_Unknown</th>\n",
       "      <th>BuysViaMailOrder_Yes</th>\n",
       "      <th>RespondsToMailOffers_Yes</th>\n",
       "      <th>OptOutMailings_Yes</th>\n",
       "      <th>NonUSTravel_Yes</th>\n",
       "      <th>OwnsComputer_Yes</th>\n",
       "      <th>HasCreditCard_Yes</th>\n",
       "      <th>NewCellphoneUser_Yes</th>\n",
       "      <th>OwnsMotorcycle_Yes</th>\n",
       "      <th>MadeCallToRetentionTeam_Yes</th>\n",
       "      <th>PrizmCode_Rural</th>\n",
       "      <th>PrizmCode_Suburban</th>\n",
       "      <th>PrizmCode_Town</th>\n",
       "      <th>Occupation_Crafts</th>\n",
       "      <th>Occupation_Homemaker</th>\n",
       "      <th>Occupation_Other</th>\n",
       "      <th>Occupation_Professional</th>\n",
       "      <th>Occupation_Retired</th>\n",
       "      <th>Occupation_Self</th>\n",
       "      <th>Occupation_Student</th>\n",
       "      <th>New_maritalstatus_Yes</th>\n",
       "      <th>CreditRating</th>\n",
       "      <th>Churn</th>\n",
       "    </tr>\n",
       "  </thead>\n",
       "  <tbody>\n",
       "    <tr>\n",
       "      <th>0</th>\n",
       "      <td>0</td>\n",
       "      <td>-1.160580</td>\n",
       "      <td>-0.783685</td>\n",
       "      <td>-1.276518</td>\n",
       "      <td>-0.444774</td>\n",
       "      <td>-0.754292</td>\n",
       "      <td>-0.256130</td>\n",
       "      <td>-0.558645</td>\n",
       "      <td>-0.461939</td>\n",
       "      <td>-0.947937</td>\n",
       "      <td>-0.514034</td>\n",
       "      <td>-0.859058</td>\n",
       "      <td>-0.681673</td>\n",
       "      <td>-0.490104</td>\n",
       "      <td>-0.117996</td>\n",
       "      <td>-1.205704</td>\n",
       "      <td>-0.876154</td>\n",
       "      <td>-0.378157</td>\n",
       "      <td>-0.675917</td>\n",
       "      <td>-0.392055</td>\n",
       "      <td>-0.464100</td>\n",
       "      <td>2.108370</td>\n",
       "      <td>0.265315</td>\n",
       "      <td>-0.818300</td>\n",
       "      <td>0.130266</td>\n",
       "      <td>0.343160</td>\n",
       "      <td>-0.073884</td>\n",
       "      <td>0.070426</td>\n",
       "      <td>-0.883867</td>\n",
       "      <td>-0.572264</td>\n",
       "      <td>-0.102378</td>\n",
       "      <td>-0.553165</td>\n",
       "      <td>1.315425</td>\n",
       "      <td>0</td>\n",
       "      <td>0</td>\n",
       "      <td>1</td>\n",
       "      <td>0</td>\n",
       "      <td>0</td>\n",
       "      <td>0</td>\n",
       "      <td>1</td>\n",
       "      <td>1</td>\n",
       "      <td>0</td>\n",
       "      <td>0</td>\n",
       "      <td>1</td>\n",
       "      <td>1</td>\n",
       "      <td>0</td>\n",
       "      <td>0</td>\n",
       "      <td>1</td>\n",
       "      <td>0</td>\n",
       "      <td>1</td>\n",
       "      <td>0</td>\n",
       "      <td>0</td>\n",
       "      <td>0</td>\n",
       "      <td>0</td>\n",
       "      <td>1</td>\n",
       "      <td>0</td>\n",
       "      <td>0</td>\n",
       "      <td>0</td>\n",
       "      <td>0</td>\n",
       "      <td>3</td>\n",
       "      <td>1</td>\n",
       "    </tr>\n",
       "    <tr>\n",
       "      <th>1</th>\n",
       "      <td>1</td>\n",
       "      <td>-1.488361</td>\n",
       "      <td>-1.558803</td>\n",
       "      <td>-1.581047</td>\n",
       "      <td>-0.721787</td>\n",
       "      <td>-0.754292</td>\n",
       "      <td>-0.256130</td>\n",
       "      <td>0.029331</td>\n",
       "      <td>0.030061</td>\n",
       "      <td>-1.052171</td>\n",
       "      <td>-0.684813</td>\n",
       "      <td>-1.060799</td>\n",
       "      <td>-0.681673</td>\n",
       "      <td>-0.490104</td>\n",
       "      <td>-1.166591</td>\n",
       "      <td>-1.205704</td>\n",
       "      <td>-0.876154</td>\n",
       "      <td>-1.283919</td>\n",
       "      <td>-1.214554</td>\n",
       "      <td>-0.392055</td>\n",
       "      <td>-0.610991</td>\n",
       "      <td>2.016572</td>\n",
       "      <td>-0.687563</td>\n",
       "      <td>-0.818300</td>\n",
       "      <td>0.130266</td>\n",
       "      <td>-0.998903</td>\n",
       "      <td>2.404823</td>\n",
       "      <td>-0.787982</td>\n",
       "      <td>-0.883867</td>\n",
       "      <td>-0.572264</td>\n",
       "      <td>0.220233</td>\n",
       "      <td>-0.553165</td>\n",
       "      <td>-0.148322</td>\n",
       "      <td>1</td>\n",
       "      <td>0</td>\n",
       "      <td>0</td>\n",
       "      <td>0</td>\n",
       "      <td>0</td>\n",
       "      <td>0</td>\n",
       "      <td>1</td>\n",
       "      <td>1</td>\n",
       "      <td>0</td>\n",
       "      <td>0</td>\n",
       "      <td>1</td>\n",
       "      <td>1</td>\n",
       "      <td>1</td>\n",
       "      <td>0</td>\n",
       "      <td>0</td>\n",
       "      <td>0</td>\n",
       "      <td>1</td>\n",
       "      <td>0</td>\n",
       "      <td>0</td>\n",
       "      <td>0</td>\n",
       "      <td>0</td>\n",
       "      <td>1</td>\n",
       "      <td>0</td>\n",
       "      <td>0</td>\n",
       "      <td>0</td>\n",
       "      <td>1</td>\n",
       "      <td>2</td>\n",
       "      <td>1</td>\n",
       "    </tr>\n",
       "    <tr>\n",
       "      <th>2</th>\n",
       "      <td>2</td>\n",
       "      <td>-0.602404</td>\n",
       "      <td>-1.567202</td>\n",
       "      <td>-0.406192</td>\n",
       "      <td>-0.721787</td>\n",
       "      <td>-0.754292</td>\n",
       "      <td>-0.256130</td>\n",
       "      <td>0.037109</td>\n",
       "      <td>0.030061</td>\n",
       "      <td>-1.133754</td>\n",
       "      <td>-0.684813</td>\n",
       "      <td>-1.224658</td>\n",
       "      <td>-0.681673</td>\n",
       "      <td>-0.490104</td>\n",
       "      <td>-1.160676</td>\n",
       "      <td>-1.185222</td>\n",
       "      <td>-0.876154</td>\n",
       "      <td>-1.361552</td>\n",
       "      <td>-1.144059</td>\n",
       "      <td>-0.392055</td>\n",
       "      <td>-0.610991</td>\n",
       "      <td>2.078213</td>\n",
       "      <td>-0.687563</td>\n",
       "      <td>-0.818300</td>\n",
       "      <td>-0.963680</td>\n",
       "      <td>-0.998903</td>\n",
       "      <td>2.811137</td>\n",
       "      <td>-0.787982</td>\n",
       "      <td>-0.883867</td>\n",
       "      <td>-0.572264</td>\n",
       "      <td>0.562858</td>\n",
       "      <td>-0.553165</td>\n",
       "      <td>-1.650029</td>\n",
       "      <td>1</td>\n",
       "      <td>0</td>\n",
       "      <td>0</td>\n",
       "      <td>0</td>\n",
       "      <td>0</td>\n",
       "      <td>1</td>\n",
       "      <td>0</td>\n",
       "      <td>0</td>\n",
       "      <td>0</td>\n",
       "      <td>0</td>\n",
       "      <td>0</td>\n",
       "      <td>1</td>\n",
       "      <td>1</td>\n",
       "      <td>0</td>\n",
       "      <td>0</td>\n",
       "      <td>0</td>\n",
       "      <td>0</td>\n",
       "      <td>1</td>\n",
       "      <td>1</td>\n",
       "      <td>0</td>\n",
       "      <td>0</td>\n",
       "      <td>0</td>\n",
       "      <td>0</td>\n",
       "      <td>0</td>\n",
       "      <td>0</td>\n",
       "      <td>1</td>\n",
       "      <td>2</td>\n",
       "      <td>0</td>\n",
       "    </tr>\n",
       "    <tr>\n",
       "      <th>3</th>\n",
       "      <td>3</td>\n",
       "      <td>0.406812</td>\n",
       "      <td>0.840653</td>\n",
       "      <td>0.957636</td>\n",
       "      <td>0.123980</td>\n",
       "      <td>-0.754292</td>\n",
       "      <td>-0.256130</td>\n",
       "      <td>0.662769</td>\n",
       "      <td>0.231433</td>\n",
       "      <td>0.956226</td>\n",
       "      <td>0.207226</td>\n",
       "      <td>0.627948</td>\n",
       "      <td>0.249774</td>\n",
       "      <td>0.227656</td>\n",
       "      <td>0.357155</td>\n",
       "      <td>1.244885</td>\n",
       "      <td>0.636395</td>\n",
       "      <td>1.328215</td>\n",
       "      <td>0.858817</td>\n",
       "      <td>-0.392055</td>\n",
       "      <td>0.351607</td>\n",
       "      <td>2.047619</td>\n",
       "      <td>0.265315</td>\n",
       "      <td>0.508156</td>\n",
       "      <td>1.024514</td>\n",
       "      <td>0.832384</td>\n",
       "      <td>0.286876</td>\n",
       "      <td>-0.787982</td>\n",
       "      <td>-0.883867</td>\n",
       "      <td>-0.572264</td>\n",
       "      <td>0.562858</td>\n",
       "      <td>-0.553165</td>\n",
       "      <td>-1.214162</td>\n",
       "      <td>0</td>\n",
       "      <td>0</td>\n",
       "      <td>1</td>\n",
       "      <td>0</td>\n",
       "      <td>0</td>\n",
       "      <td>0</td>\n",
       "      <td>1</td>\n",
       "      <td>1</td>\n",
       "      <td>0</td>\n",
       "      <td>0</td>\n",
       "      <td>0</td>\n",
       "      <td>1</td>\n",
       "      <td>1</td>\n",
       "      <td>0</td>\n",
       "      <td>0</td>\n",
       "      <td>0</td>\n",
       "      <td>0</td>\n",
       "      <td>0</td>\n",
       "      <td>0</td>\n",
       "      <td>0</td>\n",
       "      <td>1</td>\n",
       "      <td>0</td>\n",
       "      <td>0</td>\n",
       "      <td>0</td>\n",
       "      <td>0</td>\n",
       "      <td>0</td>\n",
       "      <td>2</td>\n",
       "      <td>0</td>\n",
       "    </tr>\n",
       "    <tr>\n",
       "      <th>4</th>\n",
       "      <td>4</td>\n",
       "      <td>-1.481005</td>\n",
       "      <td>-1.600985</td>\n",
       "      <td>-1.581047</td>\n",
       "      <td>-0.721787</td>\n",
       "      <td>-0.754292</td>\n",
       "      <td>-0.256130</td>\n",
       "      <td>0.044890</td>\n",
       "      <td>0.025025</td>\n",
       "      <td>-1.133754</td>\n",
       "      <td>-0.684813</td>\n",
       "      <td>-1.224658</td>\n",
       "      <td>-0.681673</td>\n",
       "      <td>-0.490104</td>\n",
       "      <td>-1.166591</td>\n",
       "      <td>-1.205704</td>\n",
       "      <td>-0.876154</td>\n",
       "      <td>-1.389289</td>\n",
       "      <td>-1.241170</td>\n",
       "      <td>-0.392055</td>\n",
       "      <td>-0.610991</td>\n",
       "      <td>1.853948</td>\n",
       "      <td>0.265315</td>\n",
       "      <td>0.508156</td>\n",
       "      <td>0.700396</td>\n",
       "      <td>0.680032</td>\n",
       "      <td>1.306178</td>\n",
       "      <td>-0.787982</td>\n",
       "      <td>-0.883867</td>\n",
       "      <td>-0.572264</td>\n",
       "      <td>1.682612</td>\n",
       "      <td>0.061017</td>\n",
       "      <td>0.547631</td>\n",
       "      <td>0</td>\n",
       "      <td>0</td>\n",
       "      <td>0</td>\n",
       "      <td>0</td>\n",
       "      <td>0</td>\n",
       "      <td>0</td>\n",
       "      <td>1</td>\n",
       "      <td>1</td>\n",
       "      <td>0</td>\n",
       "      <td>0</td>\n",
       "      <td>1</td>\n",
       "      <td>1</td>\n",
       "      <td>0</td>\n",
       "      <td>0</td>\n",
       "      <td>0</td>\n",
       "      <td>0</td>\n",
       "      <td>0</td>\n",
       "      <td>0</td>\n",
       "      <td>0</td>\n",
       "      <td>0</td>\n",
       "      <td>0</td>\n",
       "      <td>1</td>\n",
       "      <td>0</td>\n",
       "      <td>0</td>\n",
       "      <td>0</td>\n",
       "      <td>1</td>\n",
       "      <td>3</td>\n",
       "      <td>1</td>\n",
       "    </tr>\n",
       "  </tbody>\n",
       "</table>\n",
       "</div>"
      ],
      "text/plain": [
       "   Unnamed: 0  MonthlyRevenue  MonthlyMinutes  TotalRecurringCharge  \\\n",
       "0           0       -1.160580       -0.783685             -1.276518   \n",
       "1           1       -1.488361       -1.558803             -1.581047   \n",
       "2           2       -0.602404       -1.567202             -0.406192   \n",
       "3           3        0.406812        0.840653              0.957636   \n",
       "4           4       -1.481005       -1.600985             -1.581047   \n",
       "\n",
       "   DirectorAssistedCalls  OverageMinutes  RoamingCalls  PercChangeMinutes  \\\n",
       "0              -0.444774       -0.754292     -0.256130          -0.558645   \n",
       "1              -0.721787       -0.754292     -0.256130           0.029331   \n",
       "2              -0.721787       -0.754292     -0.256130           0.037109   \n",
       "3               0.123980       -0.754292     -0.256130           0.662769   \n",
       "4              -0.721787       -0.754292     -0.256130           0.044890   \n",
       "\n",
       "   PercChangeRevenues  DroppedCalls  BlockedCalls  UnansweredCalls  \\\n",
       "0           -0.461939     -0.947937     -0.514034        -0.859058   \n",
       "1            0.030061     -1.052171     -0.684813        -1.060799   \n",
       "2            0.030061     -1.133754     -0.684813        -1.224658   \n",
       "3            0.231433      0.956226      0.207226         0.627948   \n",
       "4            0.025025     -1.133754     -0.684813        -1.224658   \n",
       "\n",
       "   CustomerCareCalls  ThreewayCalls  ReceivedCalls  OutboundCalls  \\\n",
       "0          -0.681673      -0.490104      -0.117996      -1.205704   \n",
       "1          -0.681673      -0.490104      -1.166591      -1.205704   \n",
       "2          -0.681673      -0.490104      -1.160676      -1.185222   \n",
       "3           0.249774       0.227656       0.357155       1.244885   \n",
       "4          -0.681673      -0.490104      -1.166591      -1.205704   \n",
       "\n",
       "   InboundCalls  PeakCallsInOut  OffPeakCallsInOut  CallForwardingCalls  \\\n",
       "0     -0.876154       -0.378157          -0.675917            -0.392055   \n",
       "1     -0.876154       -1.283919          -1.214554            -0.392055   \n",
       "2     -0.876154       -1.361552          -1.144059            -0.392055   \n",
       "3      0.636395        1.328215           0.858817            -0.392055   \n",
       "4     -0.876154       -1.389289          -1.241170            -0.392055   \n",
       "\n",
       "   CallWaitingCalls  MonthsInService  UniqueSubs  ActiveSubs  Handsets  \\\n",
       "0         -0.464100         2.108370    0.265315   -0.818300  0.130266   \n",
       "1         -0.610991         2.016572   -0.687563   -0.818300  0.130266   \n",
       "2         -0.610991         2.078213   -0.687563   -0.818300 -0.963680   \n",
       "3          0.351607         2.047619    0.265315    0.508156  1.024514   \n",
       "4         -0.610991         1.853948    0.265315    0.508156  0.700396   \n",
       "\n",
       "   HandsetModels  CurrentEquipmentDays  RetentionCalls  \\\n",
       "0       0.343160             -0.073884        0.070426   \n",
       "1      -0.998903              2.404823       -0.787982   \n",
       "2      -0.998903              2.811137       -0.787982   \n",
       "3       0.832384              0.286876       -0.787982   \n",
       "4       0.680032              1.306178       -0.787982   \n",
       "\n",
       "   RetentionOffersAccepted  ReferralsMadeBySubscriber  IncomeGroup  \\\n",
       "0                -0.883867                  -0.572264    -0.102378   \n",
       "1                -0.883867                  -0.572264     0.220233   \n",
       "2                -0.883867                  -0.572264     0.562858   \n",
       "3                -0.883867                  -0.572264     0.562858   \n",
       "4                -0.883867                  -0.572264     1.682612   \n",
       "\n",
       "   AdjustmentsToCreditRating       Age  ChildrenInHH_Yes  \\\n",
       "0                  -0.553165  1.315425                 0   \n",
       "1                  -0.553165 -0.148322                 1   \n",
       "2                  -0.553165 -1.650029                 1   \n",
       "3                  -0.553165 -1.214162                 0   \n",
       "4                   0.061017  0.547631                 0   \n",
       "\n",
       "   HandsetRefurbished_Yes  HandsetWebCapable_Yes  TruckOwner_Yes  RVOwner_Yes  \\\n",
       "0                       0                      1               0            0   \n",
       "1                       0                      0               0            0   \n",
       "2                       0                      0               0            0   \n",
       "3                       0                      1               0            0   \n",
       "4                       0                      0               0            0   \n",
       "\n",
       "   Homeownership_Unknown  BuysViaMailOrder_Yes  RespondsToMailOffers_Yes  \\\n",
       "0                      0                     1                         1   \n",
       "1                      0                     1                         1   \n",
       "2                      1                     0                         0   \n",
       "3                      0                     1                         1   \n",
       "4                      0                     1                         1   \n",
       "\n",
       "   OptOutMailings_Yes  NonUSTravel_Yes  OwnsComputer_Yes  HasCreditCard_Yes  \\\n",
       "0                   0                0                 1                  1   \n",
       "1                   0                0                 1                  1   \n",
       "2                   0                0                 0                  1   \n",
       "3                   0                0                 0                  1   \n",
       "4                   0                0                 1                  1   \n",
       "\n",
       "   NewCellphoneUser_Yes  OwnsMotorcycle_Yes  MadeCallToRetentionTeam_Yes  \\\n",
       "0                     0                   0                            1   \n",
       "1                     1                   0                            0   \n",
       "2                     1                   0                            0   \n",
       "3                     1                   0                            0   \n",
       "4                     0                   0                            0   \n",
       "\n",
       "   PrizmCode_Rural  PrizmCode_Suburban  PrizmCode_Town  Occupation_Crafts  \\\n",
       "0                0                   1               0                  0   \n",
       "1                0                   1               0                  0   \n",
       "2                0                   0               1                  1   \n",
       "3                0                   0               0                  0   \n",
       "4                0                   0               0                  0   \n",
       "\n",
       "   Occupation_Homemaker  Occupation_Other  Occupation_Professional  \\\n",
       "0                     0                 0                        1   \n",
       "1                     0                 0                        1   \n",
       "2                     0                 0                        0   \n",
       "3                     0                 1                        0   \n",
       "4                     0                 0                        1   \n",
       "\n",
       "   Occupation_Retired  Occupation_Self  Occupation_Student  \\\n",
       "0                   0                0                   0   \n",
       "1                   0                0                   0   \n",
       "2                   0                0                   0   \n",
       "3                   0                0                   0   \n",
       "4                   0                0                   0   \n",
       "\n",
       "   New_maritalstatus_Yes  CreditRating  Churn  \n",
       "0                      0             3      1  \n",
       "1                      1             2      1  \n",
       "2                      1             2      0  \n",
       "3                      0             2      0  \n",
       "4                      1             3      1  "
      ]
     },
     "execution_count": 2,
     "metadata": {},
     "output_type": "execute_result"
    }
   ],
   "source": [
    "data=pd.read_csv('Transformed.csv')\n",
    "data.head()"
   ]
  },
  {
   "cell_type": "code",
   "execution_count": 3,
   "id": "b9a4b8d9",
   "metadata": {},
   "outputs": [],
   "source": [
    "x=data.drop(columns=['Unnamed: 0','Churn'])\n",
    "\n",
    "target=data['Churn']\n"
   ]
  },
  {
   "cell_type": "code",
   "execution_count": 4,
   "id": "412dcb96",
   "metadata": {},
   "outputs": [
    {
     "data": {
      "text/plain": [
       "(50679, 40)"
      ]
     },
     "execution_count": 4,
     "metadata": {},
     "output_type": "execute_result"
    }
   ],
   "source": [
    "### Removing non significant variables according to the stastical test.\n",
    "\n",
    "insig=['RoamingCalls','PercChangeRevenues','CallForwardingCalls','TruckOwner_Yes','RVOwner_Yes','OptOutMailings_Yes',\n",
    "      'NonUSTravel_Yes','OwnsComputer_Yes','HasCreditCard_Yes','NewCellphoneUser_Yes','OwnsMotorcycle_Yes','Occupation_Crafts',\n",
    "       'Occupation_Homemaker', 'Occupation_Other', 'Occupation_Professional','Occupation_Retired', 'Occupation_Self', \n",
    "       'Occupation_Student','New_maritalstatus_Yes']\n",
    "\n",
    "x_cols=set(x.columns)\n",
    "insig=set(insig)\n",
    "x_final=x_cols.symmetric_difference(insig)\n",
    "x=x[list(x_final)]\n",
    "x.head()\n",
    "\n",
    "x.shape"
   ]
  },
  {
   "cell_type": "code",
   "execution_count": 5,
   "id": "3abbb449",
   "metadata": {},
   "outputs": [],
   "source": [
    "xtrain,xtest,ytrain,ytest=train_test_split(x,target,test_size=0.3,random_state=0)"
   ]
  },
  {
   "cell_type": "markdown",
   "id": "129a8a4d",
   "metadata": {},
   "source": [
    "## K-Nearest Neighbors(KNN)"
   ]
  },
  {
   "cell_type": "code",
   "execution_count": 9,
   "id": "0f3ea9e1",
   "metadata": {},
   "outputs": [],
   "source": [
    "# instantiate the 'KNeighborsClassifier'\n",
    "# n_neighnors: number of neighbors to consider\n",
    "# default metric is minkowski, and with p=2 it is equivalent to the euclidean metric\n",
    "knn_classification = KNeighborsClassifier(n_neighbors = 3)\n",
    "\n",
    "# fit the model using fit() on train data\n",
    "knn_model = knn_classification.fit(xtrain, ytrain)"
   ]
  },
  {
   "cell_type": "code",
   "execution_count": 10,
   "id": "d20903c4",
   "metadata": {},
   "outputs": [],
   "source": [
    "train_predict=knn_model.predict(xtrain)"
   ]
  },
  {
   "cell_type": "code",
   "execution_count": 13,
   "id": "f89deedd",
   "metadata": {},
   "outputs": [
    {
     "name": "stdout",
     "output_type": "stream",
     "text": [
      "              precision    recall  f1-score   support\n",
      "\n",
      "           0       0.83      0.93      0.88     25403\n",
      "           1       0.75      0.52      0.61     10072\n",
      "\n",
      "    accuracy                           0.81     35475\n",
      "   macro avg       0.79      0.72      0.75     35475\n",
      "weighted avg       0.81      0.81      0.80     35475\n",
      "\n"
     ]
    }
   ],
   "source": [
    "print(classification_report(ytrain,train_predict))"
   ]
  },
  {
   "cell_type": "code",
   "execution_count": 12,
   "id": "e94156a9",
   "metadata": {
    "scrolled": true
   },
   "outputs": [
    {
     "data": {
      "text/plain": [
       "<sklearn.metrics._plot.confusion_matrix.ConfusionMatrixDisplay at 0x1b92eec0e20>"
      ]
     },
     "execution_count": 12,
     "metadata": {},
     "output_type": "execute_result"
    },
    {
     "data": {
      "image/png": "[encoded data removed]",
      "text/plain": [
       "<Figure size 360x360 with 2 Axes>"
      ]
     },
     "metadata": {
      "needs_background": "light"
     },
     "output_type": "display_data"
    }
   ],
   "source": [
    "from sklearn.metrics import ConfusionMatrixDisplay\n",
    "plt.rcParams['figure.figsize']=[5,5]\n",
    "ConfusionMatrixDisplay.from_predictions(ytrain,train_predict)"
   ]
  },
  {
   "cell_type": "markdown",
   "id": "fcf4663d",
   "metadata": {},
   "source": [
    "#### test performance"
   ]
  },
  {
   "cell_type": "code",
   "execution_count": 15,
   "id": "2c54c7eb",
   "metadata": {},
   "outputs": [],
   "source": [
    "test_predict=knn_model.predict(xtest)"
   ]
  },
  {
   "cell_type": "code",
   "execution_count": 16,
   "id": "fd58e747",
   "metadata": {},
   "outputs": [
    {
     "name": "stdout",
     "output_type": "stream",
     "text": [
      "              precision    recall  f1-score   support\n",
      "\n",
      "           0       0.72      0.83      0.77     10773\n",
      "           1       0.35      0.22      0.27      4431\n",
      "\n",
      "    accuracy                           0.65     15204\n",
      "   macro avg       0.53      0.53      0.52     15204\n",
      "weighted avg       0.61      0.65      0.63     15204\n",
      "\n"
     ]
    }
   ],
   "source": [
    "print(classification_report(ytest,test_predict))"
   ]
  },
  {
   "cell_type": "code",
   "execution_count": 17,
   "id": "b2237ddf",
   "metadata": {},
   "outputs": [
    {
     "data": {
      "text/plain": [
       "<sklearn.metrics._plot.confusion_matrix.ConfusionMatrixDisplay at 0x1b9396b5160>"
      ]
     },
     "execution_count": 17,
     "metadata": {},
     "output_type": "execute_result"
    },
    {
     "data": {
      "image/png": "[encoded data removed]",
      "text/plain": [
       "<Figure size 360x360 with 2 Axes>"
      ]
     },
     "metadata": {
      "needs_background": "light"
     },
     "output_type": "display_data"
    }
   ],
   "source": [
    "from sklearn.metrics import ConfusionMatrixDisplay\n",
    "plt.rcParams['figure.figsize']=[5,5]\n",
    "ConfusionMatrixDisplay.from_predictions(ytest,test_predict)"
   ]
  },
  {
   "cell_type": "markdown",
   "id": "c412949a",
   "metadata": {},
   "source": [
    "## 3.1 Optimal Value of K (using GridSearchCV)"
   ]
  },
  {
   "cell_type": "code",
   "execution_count": 18,
   "id": "8f6c5e27",
   "metadata": {},
   "outputs": [],
   "source": [
    "import time"
   ]
  },
  {
   "cell_type": "code",
   "execution_count": 20,
   "id": "54bb4c7c",
   "metadata": {},
   "outputs": [
    {
     "name": "stdout",
     "output_type": "stream",
     "text": [
      "Best parameters for KNN Classifier:  {'metric': 'manhattan', 'n_neighbors': 23} \n",
      "\n",
      "CPU times: total: 59min 21s\n",
      "Wall time: 1h 8min 9s\n"
     ]
    }
   ],
   "source": [
    "%%time\n",
    "# create a dictionary with hyperparameters and its values\n",
    "# n_neighnors: number of neighbors to consider\n",
    "# usually, we consider the odd value of 'n_neighnors' to avoid the equal number of nearest points with more than one class\n",
    "# pass the different distance metrics to the parameter, 'metric'\n",
    "tuned_paramaters = {'n_neighbors': np.arange(1, 25, 2),\n",
    "                   'metric': ['hamming','euclidean','manhattan','Chebyshev']}\n",
    " \n",
    "# instantiate the 'KNeighborsClassifier' \n",
    "knn_classification = KNeighborsClassifier()\n",
    "\n",
    "\n",
    "knn_grid = GridSearchCV(estimator = knn_classification, \n",
    "                        param_grid = tuned_paramaters, \n",
    "                        cv = 5, \n",
    "                        scoring = 'accuracy')\n",
    "\n",
    "# fit the model on X_train and y_train using fit()\n",
    "knn_grid.fit(xtrain, ytrain)\n",
    "\n",
    "# get the best parameters\n",
    "print('Best parameters for KNN Classifier: ', knn_grid.best_params_, '\\n')"
   ]
  },
  {
   "cell_type": "code",
   "execution_count": 21,
   "id": "089adc6c",
   "metadata": {},
   "outputs": [],
   "source": [
    "knn_class = KNeighborsClassifier(n_neighbors = 23,metric= 'manhattan')\n",
    "knn_model_1 = knn_class.fit(xtrain, ytrain)"
   ]
  },
  {
   "cell_type": "code",
   "execution_count": 22,
   "id": "6319cac6",
   "metadata": {},
   "outputs": [],
   "source": [
    "train_predict=knn_model_1.predict(xtrain)"
   ]
  },
  {
   "cell_type": "code",
   "execution_count": 23,
   "id": "e90ead16",
   "metadata": {},
   "outputs": [],
   "source": [
    "test_predict=knn_model_1.predict(xtest)"
   ]
  },
  {
   "cell_type": "code",
   "execution_count": 24,
   "id": "6f29ca7c",
   "metadata": {},
   "outputs": [],
   "source": [
    "# train report"
   ]
  },
  {
   "cell_type": "code",
   "execution_count": 25,
   "id": "3b7a7b3e",
   "metadata": {
    "scrolled": true
   },
   "outputs": [
    {
     "name": "stdout",
     "output_type": "stream",
     "text": [
      "              precision    recall  f1-score   support\n",
      "\n",
      "           0       0.73      0.98      0.84     25403\n",
      "           1       0.65      0.08      0.14     10072\n",
      "\n",
      "    accuracy                           0.73     35475\n",
      "   macro avg       0.69      0.53      0.49     35475\n",
      "weighted avg       0.71      0.73      0.64     35475\n",
      "\n"
     ]
    }
   ],
   "source": [
    "print(classification_report(ytrain,train_predict))"
   ]
  },
  {
   "cell_type": "code",
   "execution_count": 26,
   "id": "26c6d681",
   "metadata": {},
   "outputs": [],
   "source": [
    "# test report"
   ]
  },
  {
   "cell_type": "code",
   "execution_count": 27,
   "id": "b171730d",
   "metadata": {
    "scrolled": true
   },
   "outputs": [
    {
     "name": "stdout",
     "output_type": "stream",
     "text": [
      "              precision    recall  f1-score   support\n",
      "\n",
      "           0       0.71      0.97      0.82     10773\n",
      "           1       0.45      0.05      0.10      4431\n",
      "\n",
      "    accuracy                           0.71     15204\n",
      "   macro avg       0.58      0.51      0.46     15204\n",
      "weighted avg       0.64      0.71      0.61     15204\n",
      "\n"
     ]
    }
   ],
   "source": [
    "print(classification_report(ytest,test_predict))"
   ]
  },
  {
   "cell_type": "code",
   "execution_count": 31,
   "id": "9fcc983c",
   "metadata": {
    "scrolled": true
   },
   "outputs": [
    {
     "name": "stdout",
     "output_type": "stream",
     "text": [
      "0.5137087936622318\n"
     ]
    }
   ],
   "source": [
    "print(roc_auc_score(ytest,test_predict))"
   ]
  },
  {
   "cell_type": "code",
   "execution_count": 32,
   "id": "388fa55d",
   "metadata": {},
   "outputs": [
    {
     "data": {
      "text/plain": [
       "<sklearn.metrics._plot.confusion_matrix.ConfusionMatrixDisplay at 0x1b939f720a0>"
      ]
     },
     "execution_count": 32,
     "metadata": {},
     "output_type": "execute_result"
    },
    {
     "data": {
      "image/png": "[encoded data removed]",
      "text/plain": [
       "<Figure size 360x360 with 2 Axes>"
      ]
     },
     "metadata": {
      "needs_background": "light"
     },
     "output_type": "display_data"
    }
   ],
   "source": [
    "from sklearn.metrics import ConfusionMatrixDisplay\n",
    "plt.rcParams['figure.figsize']=[5,5]\n",
    "ConfusionMatrixDisplay.from_predictions(ytest,test_predict)"
   ]
  },
  {
   "cell_type": "markdown",
   "id": "e6a7c355",
   "metadata": {},
   "source": [
    "### Inference:-\n",
    "* the accuracy is 71%.\n",
    "* recall score for 1 is 0.05.\n",
    "* auc score is 0.513."
   ]
  },
  {
   "cell_type": "markdown",
   "id": "c0367f88",
   "metadata": {},
   "source": [
    "# 4. Naive Bayes Algorithm"
   ]
  },
  {
   "cell_type": "markdown",
   "id": "cc18bb5e",
   "metadata": {},
   "source": [
    "It uses a `Bayes' Theorem` with the assumption of independence of predictor variables. The sklearn library provides different naive bayes classifiers, as `GaussianNB`, `MultinomialNB` and so on."
   ]
  },
  {
   "cell_type": "code",
   "execution_count": 33,
   "id": "6590acac",
   "metadata": {},
   "outputs": [],
   "source": [
    "# instantiate the 'GaussianNB'\n",
    "gnb = GaussianNB()\n",
    "\n",
    "# fit the model using fit() on train data\n",
    "gnb_model = gnb.fit(xtrain, ytrain)"
   ]
  },
  {
   "cell_type": "code",
   "execution_count": 34,
   "id": "c30e26ab",
   "metadata": {},
   "outputs": [],
   "source": [
    "train_predict=gnb_model.predict(xtrain) "
   ]
  },
  {
   "cell_type": "code",
   "execution_count": 36,
   "id": "a2a8ee6a",
   "metadata": {},
   "outputs": [],
   "source": [
    "test_predict=gnb_model.predict(xtest)"
   ]
  },
  {
   "cell_type": "code",
   "execution_count": null,
   "id": "d92b582c",
   "metadata": {},
   "outputs": [],
   "source": [
    "#train report"
   ]
  },
  {
   "cell_type": "code",
   "execution_count": 35,
   "id": "e0dac85a",
   "metadata": {},
   "outputs": [
    {
     "name": "stdout",
     "output_type": "stream",
     "text": [
      "              precision    recall  f1-score   support\n",
      "\n",
      "           0       0.73      0.88      0.80     25403\n",
      "           1       0.39      0.19      0.26     10072\n",
      "\n",
      "    accuracy                           0.68     35475\n",
      "   macro avg       0.56      0.54      0.53     35475\n",
      "weighted avg       0.64      0.68      0.65     35475\n",
      "\n"
     ]
    }
   ],
   "source": [
    "print(classification_report(ytrain,train_predict))"
   ]
  },
  {
   "cell_type": "code",
   "execution_count": null,
   "id": "4a8c13fa",
   "metadata": {},
   "outputs": [],
   "source": [
    "#test report"
   ]
  },
  {
   "cell_type": "code",
   "execution_count": 37,
   "id": "dbd589af",
   "metadata": {
    "scrolled": true
   },
   "outputs": [
    {
     "name": "stdout",
     "output_type": "stream",
     "text": [
      "              precision    recall  f1-score   support\n",
      "\n",
      "           0       0.73      0.88      0.80     10773\n",
      "           1       0.41      0.21      0.28      4431\n",
      "\n",
      "    accuracy                           0.68     15204\n",
      "   macro avg       0.57      0.54      0.54     15204\n",
      "weighted avg       0.64      0.68      0.65     15204\n",
      "\n"
     ]
    }
   ],
   "source": [
    "print(classification_report(ytest,test_predict))"
   ]
  },
  {
   "cell_type": "code",
   "execution_count": 38,
   "id": "2194b6d7",
   "metadata": {},
   "outputs": [
    {
     "name": "stdout",
     "output_type": "stream",
     "text": [
      "0.5429938722530391\n"
     ]
    }
   ],
   "source": [
    "print(roc_auc_score(ytest,test_predict))"
   ]
  },
  {
   "cell_type": "code",
   "execution_count": 39,
   "id": "c922d4d7",
   "metadata": {},
   "outputs": [
    {
     "data": {
      "text/plain": [
       "<sklearn.metrics._plot.confusion_matrix.ConfusionMatrixDisplay at 0x1b9396efdc0>"
      ]
     },
     "execution_count": 39,
     "metadata": {},
     "output_type": "execute_result"
    },
    {
     "data": {
      "image/png": "[encoded data removed]",
      "text/plain": [
       "<Figure size 360x360 with 2 Axes>"
      ]
     },
     "metadata": {
      "needs_background": "light"
     },
     "output_type": "display_data"
    }
   ],
   "source": [
    "plt.rcParams['figure.figsize']=[5,5]\n",
    "ConfusionMatrixDisplay.from_predictions(ytest,test_predict)"
   ]
  },
  {
   "cell_type": "markdown",
   "id": "6cf6a9f8",
   "metadata": {},
   "source": [
    "### Inference:-\n",
    "* The accuracy is 68%.\n",
    "* The recall score for 1 is 0.21."
   ]
  },
  {
   "cell_type": "markdown",
   "id": "6c4e98d3",
   "metadata": {},
   "source": [
    "### Conclusion:-\n",
    "* Gaussian Naive Bayes gave good Auc score and recall score for churners."
   ]
  },
  {
   "cell_type": "code",
   "execution_count": null,
   "id": "06ff4e80",
   "metadata": {},
   "outputs": [],
   "source": []
  }
 ],
 "metadata": {
  "kernelspec": {
   "display_name": "Python 3 (ipykernel)",
   "language": "python",
   "name": "python3"
  },
  "language_info": {
   "codemirror_mode": {
    "name": "ipython",
    "version": 3
   },
   "file_extension": ".py",
   "mimetype": "text/x-python",
   "name": "python",
   "nbconvert_exporter": "python",
   "pygments_lexer": "ipython3",
   "version": "3.9.12"
  }
 },
 "nbformat": 4,
 "nbformat_minor": 5
}
